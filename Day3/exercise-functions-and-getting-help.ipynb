{
 "cells": [
  {
   "cell_type": "markdown",
   "id": "4ac8dcd7",
   "metadata": {
    "papermill": {
     "duration": 0.016606,
     "end_time": "2021-08-05T05:34:12.715819",
     "exception": false,
     "start_time": "2021-08-05T05:34:12.699213",
     "status": "completed"
    },
    "tags": []
   },
   "source": [
    "**This notebook is an exercise in the [Python](https://www.kaggle.com/learn/python) course.  You can reference the tutorial at [this link](https://www.kaggle.com/colinmorris/functions-and-getting-help).**\n",
    "\n",
    "---\n"
   ]
  },
  {
   "cell_type": "markdown",
   "id": "36bf41c2",
   "metadata": {
    "papermill": {
     "duration": 0.017646,
     "end_time": "2021-08-05T05:34:12.749161",
     "exception": false,
     "start_time": "2021-08-05T05:34:12.731515",
     "status": "completed"
    },
    "tags": []
   },
   "source": [
    "Functions are powerful. Try writing some yourself.\n",
    "\n",
    "As before, don't forget to run the setup code below before jumping into question 1."
   ]
  },
  {
   "cell_type": "code",
   "execution_count": 1,
   "id": "37cde84d",
   "metadata": {
    "_kg_hide-input": true,
    "_kg_hide-output": true,
    "execution": {
     "iopub.execute_input": "2021-08-05T05:34:12.798701Z",
     "iopub.status.busy": "2021-08-05T05:34:12.796992Z",
     "iopub.status.idle": "2021-08-05T05:34:12.946608Z",
     "shell.execute_reply": "2021-08-05T05:34:12.945569Z",
     "shell.execute_reply.started": "2021-08-05T05:21:28.677442Z"
    },
    "papermill": {
     "duration": 0.181404,
     "end_time": "2021-08-05T05:34:12.946836",
     "exception": false,
     "start_time": "2021-08-05T05:34:12.765432",
     "status": "completed"
    },
    "tags": []
   },
   "outputs": [
    {
     "name": "stdout",
     "output_type": "stream",
     "text": [
      "Setup complete.\n"
     ]
    }
   ],
   "source": [
    "# SETUP. You don't need to worry for now about what this code does or how it works.\n",
    "from learntools.core import binder; binder.bind(globals())\n",
    "from learntools.python.ex2 import *\n",
    "print('Setup complete.')"
   ]
  },
  {
   "cell_type": "markdown",
   "id": "2c528848",
   "metadata": {
    "papermill": {
     "duration": 0.01571,
     "end_time": "2021-08-05T05:34:12.980078",
     "exception": false,
     "start_time": "2021-08-05T05:34:12.964368",
     "status": "completed"
    },
    "tags": []
   },
   "source": [
    "# 1.\n",
    "\n",
    "Complete the body of the following function according to its docstring.\n",
    "\n",
    "HINT: Python has a built-in function `round`."
   ]
  },
  {
   "cell_type": "code",
   "execution_count": 2,
   "id": "8fc00a31",
   "metadata": {
    "execution": {
     "iopub.execute_input": "2021-08-05T05:34:13.019600Z",
     "iopub.status.busy": "2021-08-05T05:34:13.018897Z",
     "iopub.status.idle": "2021-08-05T05:34:13.025254Z",
     "shell.execute_reply": "2021-08-05T05:34:13.025854Z",
     "shell.execute_reply.started": "2021-08-05T05:23:11.379380Z"
    },
    "papermill": {
     "duration": 0.03066,
     "end_time": "2021-08-05T05:34:13.026030",
     "exception": false,
     "start_time": "2021-08-05T05:34:12.995370",
     "status": "completed"
    },
    "tags": []
   },
   "outputs": [
    {
     "data": {
      "application/javascript": [
       "parent.postMessage({\"jupyterEvent\": \"custom.exercise_interaction\", \"data\": {\"outcomeType\": 1, \"valueTowardsCompletion\": 0.16666666666666666, \"interactionType\": 1, \"questionType\": 2, \"questionId\": \"1_RoundFunctionProblem\", \"learnToolsVersion\": \"0.3.4\", \"failureMessage\": \"\", \"exceptionClass\": \"\", \"trace\": \"\"}}, \"*\")"
      ],
      "text/plain": [
       "<IPython.core.display.Javascript object>"
      ]
     },
     "metadata": {},
     "output_type": "display_data"
    },
    {
     "data": {
      "text/markdown": [
       "<span style=\"color:#33cc33\">Correct</span>"
      ],
      "text/plain": [
       "Correct"
      ]
     },
     "metadata": {},
     "output_type": "display_data"
    }
   ],
   "source": [
    "def round_to_two_places(num):\n",
    "    \"\"\"Return the given number rounded to two decimal places. \n",
    "    \n",
    "    >>> round_to_two_places(3.14159)\n",
    "    3.14\n",
    "    \"\"\"\n",
    "    \n",
    "    # Replace this body with your own code.\n",
    "    # (\"pass\" is a keyword that does literally nothing. We used it as a placeholder\n",
    "    # because after we begin a code block, Python requires at least one line of code)\n",
    "    \n",
    "    return round(num,2)\n",
    "\n",
    "# Check your answer\n",
    "q1.check()"
   ]
  },
  {
   "cell_type": "code",
   "execution_count": 3,
   "id": "1df00e8e",
   "metadata": {
    "execution": {
     "iopub.execute_input": "2021-08-05T05:34:13.061883Z",
     "iopub.status.busy": "2021-08-05T05:34:13.061194Z",
     "iopub.status.idle": "2021-08-05T05:34:13.072388Z",
     "shell.execute_reply": "2021-08-05T05:34:13.071878Z",
     "shell.execute_reply.started": "2021-08-05T05:23:17.280771Z"
    },
    "papermill": {
     "duration": 0.029966,
     "end_time": "2021-08-05T05:34:13.072530",
     "exception": false,
     "start_time": "2021-08-05T05:34:13.042564",
     "status": "completed"
    },
    "tags": []
   },
   "outputs": [
    {
     "data": {
      "application/javascript": [
       "parent.postMessage({\"jupyterEvent\": \"custom.exercise_interaction\", \"data\": {\"interactionType\": 2, \"questionType\": 2, \"questionId\": \"1_RoundFunctionProblem\", \"learnToolsVersion\": \"0.3.4\", \"valueTowardsCompletion\": 0.0, \"failureMessage\": \"\", \"exceptionClass\": \"\", \"trace\": \"\", \"outcomeType\": 4}}, \"*\")"
      ],
      "text/plain": [
       "<IPython.core.display.Javascript object>"
      ]
     },
     "metadata": {},
     "output_type": "display_data"
    },
    {
     "data": {
      "text/markdown": [
       "<span style=\"color:#3366cc\">Hint:</span> Run `help(round)` in the console (or in a code cell) to learn more about the round function. You'll need to use the function's optional second argument."
      ],
      "text/plain": [
       "Hint: Run `help(round)` in the console (or in a code cell) to learn more about the round function. You'll need to use the function's optional second argument."
      ]
     },
     "metadata": {},
     "output_type": "display_data"
    },
    {
     "data": {
      "application/javascript": [
       "parent.postMessage({\"jupyterEvent\": \"custom.exercise_interaction\", \"data\": {\"interactionType\": 3, \"questionType\": 2, \"questionId\": \"1_RoundFunctionProblem\", \"learnToolsVersion\": \"0.3.4\", \"valueTowardsCompletion\": 0.0, \"failureMessage\": \"\", \"exceptionClass\": \"\", \"trace\": \"\", \"outcomeType\": 4}}, \"*\")"
      ],
      "text/plain": [
       "<IPython.core.display.Javascript object>"
      ]
     },
     "metadata": {},
     "output_type": "display_data"
    },
    {
     "data": {
      "text/markdown": [
       "<span style=\"color:#33cc99\">Solution:</span> \n",
       "```python\n",
       "return round(num, 2)\n",
       "```"
      ],
      "text/plain": [
       "Solution: \n",
       "```python\n",
       "return round(num, 2)\n",
       "```"
      ]
     },
     "metadata": {},
     "output_type": "display_data"
    }
   ],
   "source": [
    "# Uncomment the following for a hint\n",
    "q1.hint()\n",
    "# Or uncomment the following to peek at the solution\n",
    "q1.solution()"
   ]
  },
  {
   "cell_type": "markdown",
   "id": "47d3dd13",
   "metadata": {
    "papermill": {
     "duration": 0.017913,
     "end_time": "2021-08-05T05:34:13.109193",
     "exception": false,
     "start_time": "2021-08-05T05:34:13.091280",
     "status": "completed"
    },
    "tags": []
   },
   "source": [
    "# 2.\n",
    "The help for `round` says that `ndigits` (the second argument) may be negative.\n",
    "What do you think will happen when it is? Try some examples in the following cell."
   ]
  },
  {
   "cell_type": "code",
   "execution_count": 4,
   "id": "8a76395c",
   "metadata": {
    "execution": {
     "iopub.execute_input": "2021-08-05T05:34:13.151705Z",
     "iopub.status.busy": "2021-08-05T05:34:13.150951Z",
     "iopub.status.idle": "2021-08-05T05:34:13.154161Z",
     "shell.execute_reply": "2021-08-05T05:34:13.154680Z",
     "shell.execute_reply.started": "2021-08-05T05:24:30.994070Z"
    },
    "papermill": {
     "duration": 0.027539,
     "end_time": "2021-08-05T05:34:13.154856",
     "exception": false,
     "start_time": "2021-08-05T05:34:13.127317",
     "status": "completed"
    },
    "tags": []
   },
   "outputs": [
    {
     "data": {
      "text/plain": [
       "12300"
      ]
     },
     "execution_count": 4,
     "metadata": {},
     "output_type": "execute_result"
    }
   ],
   "source": [
    "# Put your test code here\n",
    "round(12345,-2)"
   ]
  },
  {
   "cell_type": "markdown",
   "id": "d6f32de6",
   "metadata": {
    "papermill": {
     "duration": 0.018422,
     "end_time": "2021-08-05T05:34:13.191958",
     "exception": false,
     "start_time": "2021-08-05T05:34:13.173536",
     "status": "completed"
    },
    "tags": []
   },
   "source": [
    "Can you think of a case where this would be useful?  Once you're ready, run the code cell below to see the answer and to receive credit for completing the problem."
   ]
  },
  {
   "cell_type": "code",
   "execution_count": 5,
   "id": "79ccbae4",
   "metadata": {
    "execution": {
     "iopub.execute_input": "2021-08-05T05:34:13.233223Z",
     "iopub.status.busy": "2021-08-05T05:34:13.232320Z",
     "iopub.status.idle": "2021-08-05T05:34:13.238630Z",
     "shell.execute_reply": "2021-08-05T05:34:13.239147Z",
     "shell.execute_reply.started": "2021-08-05T05:24:34.128585Z"
    },
    "papermill": {
     "duration": 0.028483,
     "end_time": "2021-08-05T05:34:13.239352",
     "exception": false,
     "start_time": "2021-08-05T05:34:13.210869",
     "status": "completed"
    },
    "tags": []
   },
   "outputs": [
    {
     "data": {
      "application/javascript": [
       "parent.postMessage({\"jupyterEvent\": \"custom.exercise_interaction\", \"data\": {\"interactionType\": 3, \"questionType\": 4, \"questionId\": \"2_RoundNdigitsProblem\", \"learnToolsVersion\": \"0.3.4\", \"valueTowardsCompletion\": 0.0, \"failureMessage\": \"\", \"exceptionClass\": \"\", \"trace\": \"\", \"outcomeType\": 4}}, \"*\")"
      ],
      "text/plain": [
       "<IPython.core.display.Javascript object>"
      ]
     },
     "metadata": {},
     "output_type": "display_data"
    },
    {
     "data": {
      "text/markdown": [
       "<span style=\"color:#33cc99\">Solution:</span> As you've seen, `ndigits=-1` rounds to the nearest 10, `ndigits=-2` rounds to the nearest 100 and so on. Where might this be useful? Suppose we're dealing with large numbers:\n",
       "\n",
       "> The area of Finland is 338,424 km²  \n",
       "> The area of Greenland is 2,166,086 km²\n",
       "\n",
       "We probably don't care whether it's really 338,424, or 338,425, or 338,177. All those digits of accuracy are just distracting. We can chop them off by calling `round()` with `ndigits=-3`:\n",
       "\n",
       "> The area of Finland is 338,000 km²  \n",
       "> The area of Greenland is 2,166,000 km²\n",
       "\n",
       "(We'll talk about how we would get the commas later when we talk about string formatting :))\n"
      ],
      "text/plain": [
       "Solution: As you've seen, `ndigits=-1` rounds to the nearest 10, `ndigits=-2` rounds to the nearest 100 and so on. Where might this be useful? Suppose we're dealing with large numbers:\n",
       "\n",
       "> The area of Finland is 338,424 km²  \n",
       "> The area of Greenland is 2,166,086 km²\n",
       "\n",
       "We probably don't care whether it's really 338,424, or 338,425, or 338,177. All those digits of accuracy are just distracting. We can chop them off by calling `round()` with `ndigits=-3`:\n",
       "\n",
       "> The area of Finland is 338,000 km²  \n",
       "> The area of Greenland is 2,166,000 km²\n",
       "\n",
       "(We'll talk about how we would get the commas later when we talk about string formatting :))"
      ]
     },
     "metadata": {},
     "output_type": "display_data"
    }
   ],
   "source": [
    "# Check your answer (Run this code cell to receive credit!)\n",
    "q2.solution()"
   ]
  },
  {
   "cell_type": "markdown",
   "id": "1eacde7e",
   "metadata": {
    "papermill": {
     "duration": 0.01975,
     "end_time": "2021-08-05T05:34:13.279365",
     "exception": false,
     "start_time": "2021-08-05T05:34:13.259615",
     "status": "completed"
    },
    "tags": []
   },
   "source": [
    "# 3.\n",
    "\n",
    "In the previous exercise, the candy-sharing friends Alice, Bob and Carol tried to split candies evenly. For the sake of their friendship, any candies left over would be smashed. For example, if they collectively bring home 91 candies, they'll take 30 each and smash 1.\n",
    "\n",
    "Below is a simple function that will calculate the number of candies to smash for *any* number of total candies.\n",
    "\n",
    "Modify it so that it optionally takes a second argument representing the number of friends the candies are being split between. If no second argument is provided, it should assume 3 friends, as before.\n",
    "\n",
    "Update the docstring to reflect this new behaviour."
   ]
  },
  {
   "cell_type": "code",
   "execution_count": 6,
   "id": "80fb542c",
   "metadata": {
    "execution": {
     "iopub.execute_input": "2021-08-05T05:34:13.322558Z",
     "iopub.status.busy": "2021-08-05T05:34:13.321738Z",
     "iopub.status.idle": "2021-08-05T05:34:13.329579Z",
     "shell.execute_reply": "2021-08-05T05:34:13.328968Z",
     "shell.execute_reply.started": "2021-08-05T05:27:12.988502Z"
    },
    "papermill": {
     "duration": 0.030742,
     "end_time": "2021-08-05T05:34:13.329727",
     "exception": false,
     "start_time": "2021-08-05T05:34:13.298985",
     "status": "completed"
    },
    "tags": []
   },
   "outputs": [
    {
     "data": {
      "application/javascript": [
       "parent.postMessage({\"jupyterEvent\": \"custom.exercise_interaction\", \"data\": {\"outcomeType\": 1, \"valueTowardsCompletion\": 0.16666666666666666, \"interactionType\": 1, \"questionType\": 2, \"questionId\": \"3_CandySmashingFunctionProblem\", \"learnToolsVersion\": \"0.3.4\", \"failureMessage\": \"\", \"exceptionClass\": \"\", \"trace\": \"\"}}, \"*\")"
      ],
      "text/plain": [
       "<IPython.core.display.Javascript object>"
      ]
     },
     "metadata": {},
     "output_type": "display_data"
    },
    {
     "data": {
      "text/markdown": [
       "<span style=\"color:#33cc33\">Correct</span>"
      ],
      "text/plain": [
       "Correct"
      ]
     },
     "metadata": {},
     "output_type": "display_data"
    }
   ],
   "source": [
    "def to_smash(total_candies,num=3):\n",
    "    \"\"\"Return the number of leftover candies that must be smashed after distributing\n",
    "    the given number of candies evenly between 3 friends.\n",
    "    \n",
    "    >>> to_smash(91)\n",
    "    1\n",
    "    \"\"\"\n",
    "    return total_candies % num\n",
    "\n",
    "# Check your answer\n",
    "q3.check()"
   ]
  },
  {
   "cell_type": "code",
   "execution_count": 7,
   "id": "36034e85",
   "metadata": {
    "execution": {
     "iopub.execute_input": "2021-08-05T05:34:13.375983Z",
     "iopub.status.busy": "2021-08-05T05:34:13.375065Z",
     "iopub.status.idle": "2021-08-05T05:34:13.382537Z",
     "shell.execute_reply": "2021-08-05T05:34:13.383000Z",
     "shell.execute_reply.started": "2021-08-05T05:26:39.772673Z"
    },
    "papermill": {
     "duration": 0.031781,
     "end_time": "2021-08-05T05:34:13.383196",
     "exception": false,
     "start_time": "2021-08-05T05:34:13.351415",
     "status": "completed"
    },
    "tags": []
   },
   "outputs": [
    {
     "data": {
      "application/javascript": [
       "parent.postMessage({\"jupyterEvent\": \"custom.exercise_interaction\", \"data\": {\"interactionType\": 2, \"questionType\": 2, \"questionId\": \"3_CandySmashingFunctionProblem\", \"learnToolsVersion\": \"0.3.4\", \"valueTowardsCompletion\": 0.0, \"failureMessage\": \"\", \"exceptionClass\": \"\", \"trace\": \"\", \"outcomeType\": 4}}, \"*\")"
      ],
      "text/plain": [
       "<IPython.core.display.Javascript object>"
      ]
     },
     "metadata": {},
     "output_type": "display_data"
    },
    {
     "data": {
      "text/markdown": [
       "<span style=\"color:#3366cc\">Hint:</span> Refer to the section of the last tutorial notebook where we talked about default arguments"
      ],
      "text/plain": [
       "Hint: Refer to the section of the last tutorial notebook where we talked about default arguments"
      ]
     },
     "metadata": {},
     "output_type": "display_data"
    }
   ],
   "source": [
    "q3.hint()"
   ]
  },
  {
   "cell_type": "code",
   "execution_count": 8,
   "id": "12177ba8",
   "metadata": {
    "execution": {
     "iopub.execute_input": "2021-08-05T05:34:13.430413Z",
     "iopub.status.busy": "2021-08-05T05:34:13.429611Z",
     "iopub.status.idle": "2021-08-05T05:34:13.436565Z",
     "shell.execute_reply": "2021-08-05T05:34:13.437184Z",
     "shell.execute_reply.started": "2021-08-05T05:27:17.332921Z"
    },
    "papermill": {
     "duration": 0.032005,
     "end_time": "2021-08-05T05:34:13.437411",
     "exception": false,
     "start_time": "2021-08-05T05:34:13.405406",
     "status": "completed"
    },
    "tags": []
   },
   "outputs": [
    {
     "data": {
      "application/javascript": [
       "parent.postMessage({\"jupyterEvent\": \"custom.exercise_interaction\", \"data\": {\"interactionType\": 3, \"questionType\": 2, \"questionId\": \"3_CandySmashingFunctionProblem\", \"learnToolsVersion\": \"0.3.4\", \"valueTowardsCompletion\": 0.0, \"failureMessage\": \"\", \"exceptionClass\": \"\", \"trace\": \"\", \"outcomeType\": 4}}, \"*\")"
      ],
      "text/plain": [
       "<IPython.core.display.Javascript object>"
      ]
     },
     "metadata": {},
     "output_type": "display_data"
    },
    {
     "data": {
      "text/markdown": [
       "<span style=\"color:#33cc99\">Solution:</span> \n",
       "```python\n",
       "def to_smash(total_candies, n_friends=3):\n",
       "    return total_candies % n_friends\n",
       "```"
      ],
      "text/plain": [
       "Solution: \n",
       "```python\n",
       "def to_smash(total_candies, n_friends=3):\n",
       "    return total_candies % n_friends\n",
       "```"
      ]
     },
     "metadata": {},
     "output_type": "display_data"
    }
   ],
   "source": [
    "q3.solution()"
   ]
  },
  {
   "cell_type": "markdown",
   "id": "291282e3",
   "metadata": {
    "papermill": {
     "duration": 0.02226,
     "end_time": "2021-08-05T05:34:13.483057",
     "exception": false,
     "start_time": "2021-08-05T05:34:13.460797",
     "status": "completed"
    },
    "tags": []
   },
   "source": [
    "# 4. (Optional)\n",
    "\n",
    "It may not be fun, but reading and understanding error messages will be an important part of your Python career.\n",
    "\n",
    "Each code cell below contains some commented buggy code. For each cell...\n",
    "\n",
    "1. Read the code and predict what you think will happen when it's run.\n",
    "2. Then uncomment the code and run it to see what happens. (**Tip**: In the kernel editor, you can highlight several lines and press `ctrl`+`/` to toggle commenting.)\n",
    "3. Fix the code (so that it accomplishes its intended purpose without throwing an exception)\n",
    "\n",
    "<!-- TODO: should this be autochecked? Delta is probably pretty small. -->"
   ]
  },
  {
   "cell_type": "code",
   "execution_count": null,
   "id": "3de26291",
   "metadata": {
    "papermill": {
     "duration": 0.022176,
     "end_time": "2021-08-05T05:34:13.528537",
     "exception": false,
     "start_time": "2021-08-05T05:34:13.506361",
     "status": "completed"
    },
    "tags": []
   },
   "outputs": [],
   "source": []
  },
  {
   "cell_type": "code",
   "execution_count": 9,
   "id": "f38051e3",
   "metadata": {
    "execution": {
     "iopub.execute_input": "2021-08-05T05:34:13.577673Z",
     "iopub.status.busy": "2021-08-05T05:34:13.576970Z",
     "iopub.status.idle": "2021-08-05T05:34:13.581647Z",
     "shell.execute_reply": "2021-08-05T05:34:13.582118Z",
     "shell.execute_reply.started": "2021-08-05T05:31:04.512922Z"
    },
    "papermill": {
     "duration": 0.031315,
     "end_time": "2021-08-05T05:34:13.582304",
     "exception": false,
     "start_time": "2021-08-05T05:34:13.550989",
     "status": "completed"
    },
    "tags": []
   },
   "outputs": [
    {
     "data": {
      "text/plain": [
       "10.0"
      ]
     },
     "execution_count": 9,
     "metadata": {},
     "output_type": "execute_result"
    }
   ],
   "source": [
    "# ruound_to_two_places(9.9999) 함수 이름이 잘못 정의되어있음.\n",
    "round_to_two_places(9.9999)"
   ]
  },
  {
   "cell_type": "code",
   "execution_count": 10,
   "id": "b5d38978",
   "metadata": {
    "execution": {
     "iopub.execute_input": "2021-08-05T05:34:13.631578Z",
     "iopub.status.busy": "2021-08-05T05:34:13.630890Z",
     "iopub.status.idle": "2021-08-05T05:34:13.637039Z",
     "shell.execute_reply": "2021-08-05T05:34:13.636296Z",
     "shell.execute_reply.started": "2021-08-05T05:33:49.865379Z"
    },
    "papermill": {
     "duration": 0.032009,
     "end_time": "2021-08-05T05:34:13.637193",
     "exception": false,
     "start_time": "2021-08-05T05:34:13.605184",
     "status": "completed"
    },
    "tags": []
   },
   "outputs": [
    {
     "name": "stdout",
     "output_type": "stream",
     "text": [
      "5\n"
     ]
    }
   ],
   "source": [
    "# x = -10\n",
    "# y = 5\n",
    "# # Which of the two variables above has the smallest absolute value?\n",
    "# smallest_abs = min(abs(x, y)) abs() 안에 한 가지 변수를 넣어야 함.\n",
    "\n",
    "x = -10\n",
    "y = 5\n",
    "# Which of the two variables above has the smallest absolute value?\n",
    "smallest_abs = min(abs(x),abs(y)) \n",
    "print(smallest_abs)"
   ]
  },
  {
   "cell_type": "code",
   "execution_count": 11,
   "id": "3d1f3f6d",
   "metadata": {
    "execution": {
     "iopub.execute_input": "2021-08-05T05:34:13.691075Z",
     "iopub.status.busy": "2021-08-05T05:34:13.690268Z",
     "iopub.status.idle": "2021-08-05T05:34:13.693491Z",
     "shell.execute_reply": "2021-08-05T05:34:13.694092Z",
     "shell.execute_reply.started": "2021-08-05T05:32:28.578792Z"
    },
    "papermill": {
     "duration": 0.032703,
     "end_time": "2021-08-05T05:34:13.694302",
     "exception": false,
     "start_time": "2021-08-05T05:34:13.661599",
     "status": "completed"
    },
    "tags": []
   },
   "outputs": [
    {
     "name": "stdout",
     "output_type": "stream",
     "text": [
      "5\n"
     ]
    }
   ],
   "source": [
    "# def f(x):\n",
    "#     y = abs(x)\n",
    "# return y 들여쓰기 오류\n",
    "\n",
    "# print(f(5))\n",
    "\n",
    "def f(x):\n",
    "    y = abs(x)\n",
    "    return y\n",
    "\n",
    "print(f(5))\n",
    "\n"
   ]
  },
  {
   "cell_type": "markdown",
   "id": "e8322904",
   "metadata": {
    "papermill": {
     "duration": 0.02276,
     "end_time": "2021-08-05T05:34:13.740301",
     "exception": false,
     "start_time": "2021-08-05T05:34:13.717541",
     "status": "completed"
    },
    "tags": []
   },
   "source": [
    "# Keep Going\n",
    "\n",
    "Nice job with the code. Next up, you'll learn about *conditionals*, which you'll need to **[write interesting programs](https://www.kaggle.com/colinmorris/booleans-and-conditionals)**. "
   ]
  },
  {
   "cell_type": "markdown",
   "id": "5763ab58",
   "metadata": {
    "papermill": {
     "duration": 0.023101,
     "end_time": "2021-08-05T05:34:13.786723",
     "exception": false,
     "start_time": "2021-08-05T05:34:13.763622",
     "status": "completed"
    },
    "tags": []
   },
   "source": [
    "---\n",
    "\n",
    "\n",
    "\n",
    "\n",
    "*Have questions or comments? Visit the [Learn Discussion forum](https://www.kaggle.com/learn-forum/161283) to chat with other Learners.*"
   ]
  }
 ],
 "metadata": {
  "kernelspec": {
   "display_name": "Python 3",
   "language": "python",
   "name": "python3"
  },
  "language_info": {
   "codemirror_mode": {
    "name": "ipython",
    "version": 3
   },
   "file_extension": ".py",
   "mimetype": "text/x-python",
   "name": "python",
   "nbconvert_exporter": "python",
   "pygments_lexer": "ipython3",
   "version": "3.7.10"
  },
  "papermill": {
   "default_parameters": {},
   "duration": 10.371211,
   "end_time": "2021-08-05T05:34:14.519642",
   "environment_variables": {},
   "exception": null,
   "input_path": "__notebook__.ipynb",
   "output_path": "__notebook__.ipynb",
   "parameters": {},
   "start_time": "2021-08-05T05:34:04.148431",
   "version": "2.3.3"
  }
 },
 "nbformat": 4,
 "nbformat_minor": 5
}
