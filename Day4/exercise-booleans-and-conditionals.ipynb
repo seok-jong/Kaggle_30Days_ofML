{
 "cells": [
  {
   "cell_type": "markdown",
   "id": "3864f289",
   "metadata": {
    "papermill": {
     "duration": 0.030842,
     "end_time": "2021-08-07T08:46:43.881394",
     "exception": false,
     "start_time": "2021-08-07T08:46:43.850552",
     "status": "completed"
    },
    "tags": []
   },
   "source": [
    "**This notebook is an exercise in the [Python](https://www.kaggle.com/learn/python) course.  You can reference the tutorial at [this link](https://www.kaggle.com/colinmorris/booleans-and-conditionals).**\n",
    "\n",
    "---\n"
   ]
  },
  {
   "cell_type": "markdown",
   "id": "c6795742",
   "metadata": {
    "papermill": {
     "duration": 0.028693,
     "end_time": "2021-08-07T08:46:43.941493",
     "exception": false,
     "start_time": "2021-08-07T08:46:43.912800",
     "status": "completed"
    },
    "tags": []
   },
   "source": [
    "In this exercise, you'll put to work what you have learned about booleans and conditionals.\n",
    "\n",
    "To get started, **run the setup code below** before writing your own code (and if you leave this notebook and come back later, don't forget to run the setup code again)."
   ]
  },
  {
   "cell_type": "code",
   "execution_count": 1,
   "id": "f22055b3",
   "metadata": {
    "execution": {
     "iopub.execute_input": "2021-08-07T08:46:44.015685Z",
     "iopub.status.busy": "2021-08-07T08:46:44.014952Z",
     "iopub.status.idle": "2021-08-07T08:46:44.148955Z",
     "shell.execute_reply": "2021-08-07T08:46:44.149546Z",
     "shell.execute_reply.started": "2021-08-07T07:40:43.356605Z"
    },
    "papermill": {
     "duration": 0.179212,
     "end_time": "2021-08-07T08:46:44.149843",
     "exception": false,
     "start_time": "2021-08-07T08:46:43.970631",
     "status": "completed"
    },
    "tags": []
   },
   "outputs": [
    {
     "name": "stdout",
     "output_type": "stream",
     "text": [
      "Setup complete.\n"
     ]
    }
   ],
   "source": [
    "from learntools.core import binder; binder.bind(globals())\n",
    "from learntools.python.ex3 import *\n",
    "print('Setup complete.')"
   ]
  },
  {
   "cell_type": "markdown",
   "id": "be81df26",
   "metadata": {
    "papermill": {
     "duration": 0.029729,
     "end_time": "2021-08-07T08:46:44.210132",
     "exception": false,
     "start_time": "2021-08-07T08:46:44.180403",
     "status": "completed"
    },
    "tags": []
   },
   "source": [
    "# 1.\n",
    "\n",
    "Many programming languages have [`sign`](https://en.wikipedia.org/wiki/Sign_function) available as a built-in function. Python doesn't, but we can define our own!\n",
    "\n",
    "In the cell below, define a function called `sign` which takes a numerical argument and returns -1 if it's negative, 1 if it's positive, and 0 if it's 0."
   ]
  },
  {
   "cell_type": "code",
   "execution_count": 2,
   "id": "d7c5ed12",
   "metadata": {
    "execution": {
     "iopub.execute_input": "2021-08-07T08:46:44.277769Z",
     "iopub.status.busy": "2021-08-07T08:46:44.277051Z",
     "iopub.status.idle": "2021-08-07T08:46:44.282156Z",
     "shell.execute_reply": "2021-08-07T08:46:44.282700Z",
     "shell.execute_reply.started": "2021-08-07T07:40:45.520818Z"
    },
    "papermill": {
     "duration": 0.043429,
     "end_time": "2021-08-07T08:46:44.282870",
     "exception": false,
     "start_time": "2021-08-07T08:46:44.239441",
     "status": "completed"
    },
    "tags": []
   },
   "outputs": [
    {
     "data": {
      "application/javascript": [
       "parent.postMessage({\"jupyterEvent\": \"custom.exercise_interaction\", \"data\": {\"outcomeType\": 1, \"valueTowardsCompletion\": 0.2, \"interactionType\": 1, \"questionType\": 2, \"questionId\": \"1_SignFunctionProblem\", \"learnToolsVersion\": \"0.3.4\", \"failureMessage\": \"\", \"exceptionClass\": \"\", \"trace\": \"\"}}, \"*\")"
      ],
      "text/plain": [
       "<IPython.core.display.Javascript object>"
      ]
     },
     "metadata": {},
     "output_type": "display_data"
    },
    {
     "data": {
      "text/markdown": [
       "<span style=\"color:#33cc33\">Correct</span>"
      ],
      "text/plain": [
       "Correct"
      ]
     },
     "metadata": {},
     "output_type": "display_data"
    }
   ],
   "source": [
    "# Your code goes here. Define a function called 'sign'\n",
    "\n",
    "def sign(num):\n",
    "    if num==0:\n",
    "        return 0\n",
    "    elif num>0:\n",
    "        return 1\n",
    "    else:\n",
    "        return -1\n",
    "\n",
    "# Check your answer\n",
    "q1.check()"
   ]
  },
  {
   "cell_type": "code",
   "execution_count": 3,
   "id": "0773a83d",
   "metadata": {
    "execution": {
     "iopub.execute_input": "2021-08-07T08:46:44.349685Z",
     "iopub.status.busy": "2021-08-07T08:46:44.348957Z",
     "iopub.status.idle": "2021-08-07T08:46:44.355668Z",
     "shell.execute_reply": "2021-08-07T08:46:44.356153Z",
     "shell.execute_reply.started": "2021-08-07T07:40:45.612247Z"
    },
    "papermill": {
     "duration": 0.042483,
     "end_time": "2021-08-07T08:46:44.356334",
     "exception": false,
     "start_time": "2021-08-07T08:46:44.313851",
     "status": "completed"
    },
    "tags": []
   },
   "outputs": [
    {
     "data": {
      "application/javascript": [
       "parent.postMessage({\"jupyterEvent\": \"custom.exercise_interaction\", \"data\": {\"interactionType\": 3, \"questionType\": 2, \"questionId\": \"1_SignFunctionProblem\", \"learnToolsVersion\": \"0.3.4\", \"valueTowardsCompletion\": 0.0, \"failureMessage\": \"\", \"exceptionClass\": \"\", \"trace\": \"\", \"outcomeType\": 4}}, \"*\")"
      ],
      "text/plain": [
       "<IPython.core.display.Javascript object>"
      ]
     },
     "metadata": {},
     "output_type": "display_data"
    },
    {
     "data": {
      "text/markdown": [
       "<span style=\"color:#33cc99\">Solution:</span> \n",
       "```python\n",
       "def sign(x):\n",
       "    if x > 0:\n",
       "        return 1\n",
       "    elif x < 0:\n",
       "        return -1\n",
       "    else:\n",
       "        return 0\n",
       "```"
      ],
      "text/plain": [
       "Solution: \n",
       "```python\n",
       "def sign(x):\n",
       "    if x > 0:\n",
       "        return 1\n",
       "    elif x < 0:\n",
       "        return -1\n",
       "    else:\n",
       "        return 0\n",
       "```"
      ]
     },
     "metadata": {},
     "output_type": "display_data"
    }
   ],
   "source": [
    "q1.solution()"
   ]
  },
  {
   "cell_type": "markdown",
   "id": "921ab7c3",
   "metadata": {
    "papermill": {
     "duration": 0.032813,
     "end_time": "2021-08-07T08:46:44.420666",
     "exception": false,
     "start_time": "2021-08-07T08:46:44.387853",
     "status": "completed"
    },
    "tags": []
   },
   "source": [
    "# 2.\n",
    "\n",
    "We've decided to add \"logging\" to our `to_smash` function from the previous exercise."
   ]
  },
  {
   "cell_type": "code",
   "execution_count": 4,
   "id": "4d39add8",
   "metadata": {
    "execution": {
     "iopub.execute_input": "2021-08-07T08:46:44.487161Z",
     "iopub.status.busy": "2021-08-07T08:46:44.486436Z",
     "iopub.status.idle": "2021-08-07T08:46:44.495274Z",
     "shell.execute_reply": "2021-08-07T08:46:44.495749Z",
     "shell.execute_reply.started": "2021-08-07T07:41:33.746927Z"
    },
    "papermill": {
     "duration": 0.043942,
     "end_time": "2021-08-07T08:46:44.495949",
     "exception": false,
     "start_time": "2021-08-07T08:46:44.452007",
     "status": "completed"
    },
    "tags": []
   },
   "outputs": [
    {
     "name": "stdout",
     "output_type": "stream",
     "text": [
      "Splitting 91 candies\n"
     ]
    },
    {
     "data": {
      "text/plain": [
       "1"
      ]
     },
     "execution_count": 4,
     "metadata": {},
     "output_type": "execute_result"
    }
   ],
   "source": [
    "def to_smash(total_candies):\n",
    "    \"\"\"Return the number of leftover candies that must be smashed after distributing\n",
    "    the given number of candies evenly between 3 friends.\n",
    "    \n",
    "    >>> to_smash(91)\n",
    "    1\n",
    "    \"\"\"\n",
    "    print(\"Splitting\", total_candies, \"candies\")\n",
    "    return total_candies % 3\n",
    "\n",
    "to_smash(91)"
   ]
  },
  {
   "cell_type": "markdown",
   "id": "06edc418",
   "metadata": {
    "papermill": {
     "duration": 0.038519,
     "end_time": "2021-08-07T08:46:44.567289",
     "exception": false,
     "start_time": "2021-08-07T08:46:44.528770",
     "status": "completed"
    },
    "tags": []
   },
   "source": [
    "What happens if we call it with `total_candies = 1`?"
   ]
  },
  {
   "cell_type": "code",
   "execution_count": 5,
   "id": "6a57c27c",
   "metadata": {
    "execution": {
     "iopub.execute_input": "2021-08-07T08:46:44.658313Z",
     "iopub.status.busy": "2021-08-07T08:46:44.657280Z",
     "iopub.status.idle": "2021-08-07T08:46:44.665595Z",
     "shell.execute_reply": "2021-08-07T08:46:44.664944Z",
     "shell.execute_reply.started": "2021-08-07T07:41:42.194363Z"
    },
    "papermill": {
     "duration": 0.058646,
     "end_time": "2021-08-07T08:46:44.665737",
     "exception": false,
     "start_time": "2021-08-07T08:46:44.607091",
     "status": "completed"
    },
    "tags": []
   },
   "outputs": [
    {
     "name": "stdout",
     "output_type": "stream",
     "text": [
      "Splitting 1 candies\n"
     ]
    },
    {
     "data": {
      "text/plain": [
       "1"
      ]
     },
     "execution_count": 5,
     "metadata": {},
     "output_type": "execute_result"
    }
   ],
   "source": [
    "to_smash(1)"
   ]
  },
  {
   "cell_type": "markdown",
   "id": "8d89e962",
   "metadata": {
    "papermill": {
     "duration": 0.033794,
     "end_time": "2021-08-07T08:46:44.735544",
     "exception": false,
     "start_time": "2021-08-07T08:46:44.701750",
     "status": "completed"
    },
    "tags": []
   },
   "source": [
    "That isn't great grammar!\n",
    "\n",
    "Modify the definition in the cell below to correct the grammar of our print statement. (If there's only one candy, we should use the singular \"candy\" instead of the plural \"candies\")"
   ]
  },
  {
   "cell_type": "code",
   "execution_count": 6,
   "id": "3ec9c47f",
   "metadata": {
    "execution": {
     "iopub.execute_input": "2021-08-07T08:46:44.809842Z",
     "iopub.status.busy": "2021-08-07T08:46:44.808757Z",
     "iopub.status.idle": "2021-08-07T08:46:44.814320Z",
     "shell.execute_reply": "2021-08-07T08:46:44.813689Z",
     "shell.execute_reply.started": "2021-08-07T07:43:13.610917Z"
    },
    "papermill": {
     "duration": 0.046071,
     "end_time": "2021-08-07T08:46:44.814462",
     "exception": false,
     "start_time": "2021-08-07T08:46:44.768391",
     "status": "completed"
    },
    "tags": []
   },
   "outputs": [
    {
     "name": "stdout",
     "output_type": "stream",
     "text": [
      "Splitting 91 candies\n",
      "Splitting 1 candy\n"
     ]
    },
    {
     "data": {
      "text/plain": [
       "1"
      ]
     },
     "execution_count": 6,
     "metadata": {},
     "output_type": "execute_result"
    }
   ],
   "source": [
    "def to_smash(total_candies):\n",
    "    \"\"\"Return the number of leftover candies that must be smashed after distributing\n",
    "    the given number of candies evenly between 3 friends.\n",
    "    \n",
    "    >>> to_smash(91)\n",
    "    1\n",
    "    \"\"\"\n",
    "    if total_candies>=2:\n",
    "        print(\"Splitting\", total_candies, \"candies\")\n",
    "        \n",
    "    else:\n",
    "        print(\"Splitting\", total_candies, \"candy\")\n",
    "    return total_candies % 3\n",
    "\n",
    "to_smash(91)\n",
    "to_smash(1)"
   ]
  },
  {
   "cell_type": "markdown",
   "id": "ecc3d3d4",
   "metadata": {
    "papermill": {
     "duration": 0.033414,
     "end_time": "2021-08-07T08:46:44.881523",
     "exception": false,
     "start_time": "2021-08-07T08:46:44.848109",
     "status": "completed"
    },
    "tags": []
   },
   "source": [
    "To get credit for completing this problem, and to see the official answer, run the code cell below."
   ]
  },
  {
   "cell_type": "code",
   "execution_count": 7,
   "id": "460c50b9",
   "metadata": {
    "execution": {
     "iopub.execute_input": "2021-08-07T08:46:44.955472Z",
     "iopub.status.busy": "2021-08-07T08:46:44.954315Z",
     "iopub.status.idle": "2021-08-07T08:46:44.961339Z",
     "shell.execute_reply": "2021-08-07T08:46:44.960633Z",
     "shell.execute_reply.started": "2021-08-07T07:43:16.048159Z"
    },
    "papermill": {
     "duration": 0.046168,
     "end_time": "2021-08-07T08:46:44.961491",
     "exception": false,
     "start_time": "2021-08-07T08:46:44.915323",
     "status": "completed"
    },
    "tags": []
   },
   "outputs": [
    {
     "data": {
      "application/javascript": [
       "parent.postMessage({\"jupyterEvent\": \"custom.exercise_interaction\", \"data\": {\"interactionType\": 3, \"questionType\": 4, \"questionId\": \"2_PluralizationProblem\", \"learnToolsVersion\": \"0.3.4\", \"valueTowardsCompletion\": 0.0, \"failureMessage\": \"\", \"exceptionClass\": \"\", \"trace\": \"\", \"outcomeType\": 4}}, \"*\")"
      ],
      "text/plain": [
       "<IPython.core.display.Javascript object>"
      ]
     },
     "metadata": {},
     "output_type": "display_data"
    },
    {
     "data": {
      "text/markdown": [
       "<span style=\"color:#33cc99\">Solution:</span> A straightforward (and totally fine) solution is to replace the original `print` call with:\n",
       "\n",
       "```python\n",
       "if total_candies == 1:\n",
       "    print(\"Splitting 1 candy\")\n",
       "else:\n",
       "    print(\"Splitting\", total_candies, \"candies\")\n",
       "```\n",
       "\n",
       "Here's a slightly more succinct solution using a conditional expression:\n",
       "\n",
       "```python\n",
       "print(\"Splitting\", total_candies, \"candy\" if total_candies == 1 else \"candies\")\n",
       "```"
      ],
      "text/plain": [
       "Solution: A straightforward (and totally fine) solution is to replace the original `print` call with:\n",
       "\n",
       "```python\n",
       "if total_candies == 1:\n",
       "    print(\"Splitting 1 candy\")\n",
       "else:\n",
       "    print(\"Splitting\", total_candies, \"candies\")\n",
       "```\n",
       "\n",
       "Here's a slightly more succinct solution using a conditional expression:\n",
       "\n",
       "```python\n",
       "print(\"Splitting\", total_candies, \"candy\" if total_candies == 1 else \"candies\")\n",
       "```"
      ]
     },
     "metadata": {},
     "output_type": "display_data"
    }
   ],
   "source": [
    "# Check your answer (Run this code cell to receive credit!)\n",
    "q2.solution()"
   ]
  },
  {
   "cell_type": "markdown",
   "id": "afb6a5dd",
   "metadata": {
    "papermill": {
     "duration": 0.034293,
     "end_time": "2021-08-07T08:46:45.030699",
     "exception": false,
     "start_time": "2021-08-07T08:46:44.996406",
     "status": "completed"
    },
    "tags": []
   },
   "source": [
    "# 3. <span title=\"A bit spicy\" style=\"color: darkgreen \">🌶️</span>\n",
    "\n",
    "In the tutorial, we talked about deciding whether we're prepared for the weather. I said that I'm safe from today's weather if...\n",
    "- I have an umbrella...\n",
    "- or if the rain isn't too heavy and I have a hood...\n",
    "- otherwise, I'm still fine unless it's raining *and* it's a workday\n",
    "\n",
    "The function below uses our first attempt at turning this logic into a Python expression. I claimed that there was a bug in that code. Can you find it?\n",
    "\n",
    "To prove that `prepared_for_weather` is buggy, come up with a set of inputs where either:\n",
    "- the function returns `False` (but should have returned `True`), or\n",
    "- the function returned `True` (but should have returned `False`).\n",
    "\n",
    "To get credit for completing this question, your code should return a <font color='#33cc33'>Correct</font> result."
   ]
  },
  {
   "cell_type": "code",
   "execution_count": 8,
   "id": "9b3a89a9",
   "metadata": {
    "execution": {
     "iopub.execute_input": "2021-08-07T08:46:45.108608Z",
     "iopub.status.busy": "2021-08-07T08:46:45.107751Z",
     "iopub.status.idle": "2021-08-07T08:46:45.116361Z",
     "shell.execute_reply": "2021-08-07T08:46:45.115738Z",
     "shell.execute_reply.started": "2021-08-07T07:49:11.747240Z"
    },
    "papermill": {
     "duration": 0.050168,
     "end_time": "2021-08-07T08:46:45.116514",
     "exception": false,
     "start_time": "2021-08-07T08:46:45.066346",
     "status": "completed"
    },
    "tags": []
   },
   "outputs": [
    {
     "name": "stdout",
     "output_type": "stream",
     "text": [
      "False\n"
     ]
    },
    {
     "data": {
      "application/javascript": [
       "parent.postMessage({\"jupyterEvent\": \"custom.exercise_interaction\", \"data\": {\"outcomeType\": 1, \"valueTowardsCompletion\": 0.2, \"interactionType\": 1, \"questionType\": 1, \"questionId\": \"3_WeatherDebug\", \"learnToolsVersion\": \"0.3.4\", \"failureMessage\": \"\", \"exceptionClass\": \"\", \"trace\": \"\"}}, \"*\")"
      ],
      "text/plain": [
       "<IPython.core.display.Javascript object>"
      ]
     },
     "metadata": {},
     "output_type": "display_data"
    },
    {
     "data": {
      "text/markdown": [
       "<span style=\"color:#33cc33\">Correct:</span> \n",
       "\n",
       "One example of a failing test case is:\n",
       "\n",
       "```python\n",
       "have_umbrella = False\n",
       "rain_level = 0.0\n",
       "have_hood = False\n",
       "is_workday = False\n",
       "```\n",
       "\n",
       "Clearly we're prepared for the weather in this case. It's not raining. Not only that, it's not a workday, so we don't even need to leave the house! But our function will return False on these inputs.\n",
       "\n",
       "The key problem is that Python implictly parenthesizes the last part as:\n",
       "\n",
       "```python\n",
       "(not (rain_level > 0)) and is_workday\n",
       "```\n",
       "\n",
       "Whereas what we were trying to express would look more like:\n",
       "\n",
       "```python\n",
       "not (rain_level > 0 and is_workday)\n",
       "```\n"
      ],
      "text/plain": [
       "Correct: \n",
       "\n",
       "One example of a failing test case is:\n",
       "\n",
       "```python\n",
       "have_umbrella = False\n",
       "rain_level = 0.0\n",
       "have_hood = False\n",
       "is_workday = False\n",
       "```\n",
       "\n",
       "Clearly we're prepared for the weather in this case. It's not raining. Not only that, it's not a workday, so we don't even need to leave the house! But our function will return False on these inputs.\n",
       "\n",
       "The key problem is that Python implictly parenthesizes the last part as:\n",
       "\n",
       "```python\n",
       "(not (rain_level > 0)) and is_workday\n",
       "```\n",
       "\n",
       "Whereas what we were trying to express would look more like:\n",
       "\n",
       "```python\n",
       "not (rain_level > 0 and is_workday)\n",
       "```"
      ]
     },
     "metadata": {},
     "output_type": "display_data"
    }
   ],
   "source": [
    "def prepared_for_weather(have_umbrella, rain_level, have_hood, is_workday):\n",
    "    # Don't change this code. Our goal is just to find the bug, not fix it!\n",
    "    return have_umbrella or rain_level < 5 and have_hood or not rain_level > 0 and is_workday\n",
    "\n",
    "# Change the values of these inputs so they represent a case where prepared_for_weather\n",
    "# returns the wrong answer.\n",
    "have_umbrella = False\n",
    "rain_level = 0.0\n",
    "have_hood = False\n",
    "is_workday = False\n",
    "\n",
    "# Check what the function returns given the current values of the variables above\n",
    "actual = prepared_for_weather(have_umbrella, rain_level, have_hood, is_workday)\n",
    "print(actual)\n",
    "\n",
    "# Check your answer\n",
    "q3.check()"
   ]
  },
  {
   "cell_type": "code",
   "execution_count": 9,
   "id": "5f5f4cf2",
   "metadata": {
    "execution": {
     "iopub.execute_input": "2021-08-07T08:46:45.194696Z",
     "iopub.status.busy": "2021-08-07T08:46:45.193944Z",
     "iopub.status.idle": "2021-08-07T08:46:45.203159Z",
     "shell.execute_reply": "2021-08-07T08:46:45.202613Z",
     "shell.execute_reply.started": "2021-08-07T07:48:41.914778Z"
    },
    "papermill": {
     "duration": 0.050816,
     "end_time": "2021-08-07T08:46:45.203340",
     "exception": false,
     "start_time": "2021-08-07T08:46:45.152524",
     "status": "completed"
    },
    "tags": []
   },
   "outputs": [
    {
     "data": {
      "application/javascript": [
       "parent.postMessage({\"jupyterEvent\": \"custom.exercise_interaction\", \"data\": {\"interactionType\": 2, \"questionType\": 1, \"questionId\": \"3_WeatherDebug\", \"learnToolsVersion\": \"0.3.4\", \"valueTowardsCompletion\": 0.0, \"failureMessage\": \"\", \"exceptionClass\": \"\", \"trace\": \"\", \"outcomeType\": 4}}, \"*\")"
      ],
      "text/plain": [
       "<IPython.core.display.Javascript object>"
      ]
     },
     "metadata": {},
     "output_type": "display_data"
    },
    {
     "data": {
      "text/markdown": [
       "<span style=\"color:#3366cc\">Hint:</span> Take a look at how we fixed our original expression in the main lesson. We added parentheses around certain subexpressions. The bug in this code is caused by Python evaluating certain operations in the \"wrong\" order."
      ],
      "text/plain": [
       "Hint: Take a look at how we fixed our original expression in the main lesson. We added parentheses around certain subexpressions. The bug in this code is caused by Python evaluating certain operations in the \"wrong\" order."
      ]
     },
     "metadata": {},
     "output_type": "display_data"
    },
    {
     "data": {
      "application/javascript": [
       "parent.postMessage({\"jupyterEvent\": \"custom.exercise_interaction\", \"data\": {\"interactionType\": 3, \"questionType\": 1, \"questionId\": \"3_WeatherDebug\", \"learnToolsVersion\": \"0.3.4\", \"valueTowardsCompletion\": 0.0, \"failureMessage\": \"\", \"exceptionClass\": \"\", \"trace\": \"\", \"outcomeType\": 4}}, \"*\")"
      ],
      "text/plain": [
       "<IPython.core.display.Javascript object>"
      ]
     },
     "metadata": {},
     "output_type": "display_data"
    },
    {
     "data": {
      "text/markdown": [
       "<span style=\"color:#33cc99\">Solution:</span> One example of a failing test case is:\n",
       "\n",
       "```python\n",
       "have_umbrella = False\n",
       "rain_level = 0.0\n",
       "have_hood = False\n",
       "is_workday = False\n",
       "```\n",
       "\n",
       "Clearly we're prepared for the weather in this case. It's not raining. Not only that, it's not a workday, so we don't even need to leave the house! But our function will return False on these inputs.\n",
       "\n",
       "The key problem is that Python implictly parenthesizes the last part as:\n",
       "\n",
       "```python\n",
       "(not (rain_level > 0)) and is_workday\n",
       "```\n",
       "\n",
       "Whereas what we were trying to express would look more like:\n",
       "\n",
       "```python\n",
       "not (rain_level > 0 and is_workday)\n",
       "```\n"
      ],
      "text/plain": [
       "Solution: One example of a failing test case is:\n",
       "\n",
       "```python\n",
       "have_umbrella = False\n",
       "rain_level = 0.0\n",
       "have_hood = False\n",
       "is_workday = False\n",
       "```\n",
       "\n",
       "Clearly we're prepared for the weather in this case. It's not raining. Not only that, it's not a workday, so we don't even need to leave the house! But our function will return False on these inputs.\n",
       "\n",
       "The key problem is that Python implictly parenthesizes the last part as:\n",
       "\n",
       "```python\n",
       "(not (rain_level > 0)) and is_workday\n",
       "```\n",
       "\n",
       "Whereas what we were trying to express would look more like:\n",
       "\n",
       "```python\n",
       "not (rain_level > 0 and is_workday)\n",
       "```"
      ]
     },
     "metadata": {},
     "output_type": "display_data"
    }
   ],
   "source": [
    "q3.hint()\n",
    "q3.solution()"
   ]
  },
  {
   "cell_type": "markdown",
   "id": "eae47f27",
   "metadata": {
    "papermill": {
     "duration": 0.037215,
     "end_time": "2021-08-07T08:46:45.278122",
     "exception": false,
     "start_time": "2021-08-07T08:46:45.240907",
     "status": "completed"
    },
    "tags": []
   },
   "source": [
    "# 4.\n",
    "\n",
    "The function `is_negative` below is implemented correctly - it returns True if the given number is negative and False otherwise.\n",
    "\n",
    "However, it's more verbose than it needs to be. We can actually reduce the number of lines of code in this function by *75%* while keeping the same behaviour. \n",
    "\n",
    "See if you can come up with an equivalent body that uses just **one line** of code, and put it in the function `concise_is_negative`. (HINT: you don't even need Python's ternary syntax)"
   ]
  },
  {
   "cell_type": "code",
   "execution_count": 10,
   "id": "ad55f6a5",
   "metadata": {
    "execution": {
     "iopub.execute_input": "2021-08-07T08:46:45.362720Z",
     "iopub.status.busy": "2021-08-07T08:46:45.362027Z",
     "iopub.status.idle": "2021-08-07T08:46:45.366629Z",
     "shell.execute_reply": "2021-08-07T08:46:45.367267Z",
     "shell.execute_reply.started": "2021-08-07T07:51:27.743329Z"
    },
    "papermill": {
     "duration": 0.050199,
     "end_time": "2021-08-07T08:46:45.367438",
     "exception": false,
     "start_time": "2021-08-07T08:46:45.317239",
     "status": "completed"
    },
    "tags": []
   },
   "outputs": [
    {
     "data": {
      "application/javascript": [
       "parent.postMessage({\"jupyterEvent\": \"custom.exercise_interaction\", \"data\": {\"outcomeType\": 1, \"valueTowardsCompletion\": 0.2, \"interactionType\": 1, \"questionType\": 2, \"questionId\": \"4_ConciseIsNegative\", \"learnToolsVersion\": \"0.3.4\", \"failureMessage\": \"\", \"exceptionClass\": \"\", \"trace\": \"\"}}, \"*\")"
      ],
      "text/plain": [
       "<IPython.core.display.Javascript object>"
      ]
     },
     "metadata": {},
     "output_type": "display_data"
    },
    {
     "data": {
      "text/markdown": [
       "<span style=\"color:#33cc33\">Correct</span>"
      ],
      "text/plain": [
       "Correct"
      ]
     },
     "metadata": {},
     "output_type": "display_data"
    }
   ],
   "source": [
    "def is_negative(number):\n",
    "    if number < 0:\n",
    "        return True\n",
    "    else:\n",
    "        return False\n",
    "\n",
    "def concise_is_negative(number):\n",
    "    return True if number <0 else False\n",
    "\n",
    "# Check your answer\n",
    "q4.check()"
   ]
  },
  {
   "cell_type": "code",
   "execution_count": 11,
   "id": "67460b2a",
   "metadata": {
    "execution": {
     "iopub.execute_input": "2021-08-07T08:46:45.451576Z",
     "iopub.status.busy": "2021-08-07T08:46:45.450651Z",
     "iopub.status.idle": "2021-08-07T08:46:45.459856Z",
     "shell.execute_reply": "2021-08-07T08:46:45.460405Z",
     "shell.execute_reply.started": "2021-08-07T07:51:33.627548Z"
    },
    "papermill": {
     "duration": 0.053196,
     "end_time": "2021-08-07T08:46:45.460583",
     "exception": false,
     "start_time": "2021-08-07T08:46:45.407387",
     "status": "completed"
    },
    "tags": []
   },
   "outputs": [
    {
     "data": {
      "application/javascript": [
       "parent.postMessage({\"jupyterEvent\": \"custom.exercise_interaction\", \"data\": {\"interactionType\": 2, \"questionType\": 2, \"questionId\": \"4_ConciseIsNegative\", \"learnToolsVersion\": \"0.3.4\", \"valueTowardsCompletion\": 0.0, \"failureMessage\": \"\", \"exceptionClass\": \"\", \"trace\": \"\", \"outcomeType\": 4}}, \"*\")"
      ],
      "text/plain": [
       "<IPython.core.display.Javascript object>"
      ]
     },
     "metadata": {},
     "output_type": "display_data"
    },
    {
     "data": {
      "text/markdown": [
       "<span style=\"color:#3366cc\">Hint:</span> If the value of the expression `number < 0` is `True`, then we return `True`. If it's `False`, then we return `False`..."
      ],
      "text/plain": [
       "Hint: If the value of the expression `number < 0` is `True`, then we return `True`. If it's `False`, then we return `False`..."
      ]
     },
     "metadata": {},
     "output_type": "display_data"
    },
    {
     "data": {
      "application/javascript": [
       "parent.postMessage({\"jupyterEvent\": \"custom.exercise_interaction\", \"data\": {\"interactionType\": 3, \"questionType\": 2, \"questionId\": \"4_ConciseIsNegative\", \"learnToolsVersion\": \"0.3.4\", \"valueTowardsCompletion\": 0.0, \"failureMessage\": \"\", \"exceptionClass\": \"\", \"trace\": \"\", \"outcomeType\": 4}}, \"*\")"
      ],
      "text/plain": [
       "<IPython.core.display.Javascript object>"
      ]
     },
     "metadata": {},
     "output_type": "display_data"
    },
    {
     "data": {
      "text/markdown": [
       "<span style=\"color:#33cc99\">Solution:</span> \n",
       "```python\n",
       "return number < 0\n",
       "```"
      ],
      "text/plain": [
       "Solution: \n",
       "```python\n",
       "return number < 0\n",
       "```"
      ]
     },
     "metadata": {},
     "output_type": "display_data"
    }
   ],
   "source": [
    "q4.hint()\n",
    "q4.solution()"
   ]
  },
  {
   "cell_type": "markdown",
   "id": "5631d621",
   "metadata": {
    "papermill": {
     "duration": 0.043296,
     "end_time": "2021-08-07T08:46:45.546963",
     "exception": false,
     "start_time": "2021-08-07T08:46:45.503667",
     "status": "completed"
    },
    "tags": []
   },
   "source": [
    "# 5a.\n",
    "\n",
    "The boolean variables `ketchup`, `mustard` and `onion` represent whether a customer wants a particular topping on their hot dog. We want to implement a number of boolean functions that correspond to some yes-or-no questions about the customer's order. For example:"
   ]
  },
  {
   "cell_type": "code",
   "execution_count": 12,
   "id": "84b9229a",
   "metadata": {
    "execution": {
     "iopub.execute_input": "2021-08-07T08:46:45.637730Z",
     "iopub.status.busy": "2021-08-07T08:46:45.637003Z",
     "iopub.status.idle": "2021-08-07T08:46:45.640372Z",
     "shell.execute_reply": "2021-08-07T08:46:45.639832Z",
     "shell.execute_reply.started": "2021-08-07T07:53:07.545073Z"
    },
    "papermill": {
     "duration": 0.04981,
     "end_time": "2021-08-07T08:46:45.640520",
     "exception": false,
     "start_time": "2021-08-07T08:46:45.590710",
     "status": "completed"
    },
    "tags": []
   },
   "outputs": [],
   "source": [
    "def onionless(ketchup, mustard, onion):\n",
    "    \"\"\"Return whether the customer doesn't want onions.\n",
    "    \"\"\"\n",
    "    return not onion"
   ]
  },
  {
   "cell_type": "code",
   "execution_count": 13,
   "id": "cb003d07",
   "metadata": {
    "execution": {
     "iopub.execute_input": "2021-08-07T08:46:45.735177Z",
     "iopub.status.busy": "2021-08-07T08:46:45.734017Z",
     "iopub.status.idle": "2021-08-07T08:46:45.740814Z",
     "shell.execute_reply": "2021-08-07T08:46:45.740105Z",
     "shell.execute_reply.started": "2021-08-07T07:53:45.828758Z"
    },
    "papermill": {
     "duration": 0.056579,
     "end_time": "2021-08-07T08:46:45.740998",
     "exception": false,
     "start_time": "2021-08-07T08:46:45.684419",
     "status": "completed"
    },
    "tags": []
   },
   "outputs": [
    {
     "data": {
      "application/javascript": [
       "parent.postMessage({\"jupyterEvent\": \"custom.exercise_interaction\", \"data\": {\"outcomeType\": 1, \"valueTowardsCompletion\": 0.2, \"interactionType\": 1, \"questionType\": 2, \"questionId\": \"5.1_AllToppings\", \"learnToolsVersion\": \"0.3.4\", \"failureMessage\": \"\", \"exceptionClass\": \"\", \"trace\": \"\"}}, \"*\")"
      ],
      "text/plain": [
       "<IPython.core.display.Javascript object>"
      ]
     },
     "metadata": {},
     "output_type": "display_data"
    },
    {
     "data": {
      "text/markdown": [
       "<span style=\"color:#33cc33\">Correct</span>"
      ],
      "text/plain": [
       "Correct"
      ]
     },
     "metadata": {},
     "output_type": "display_data"
    }
   ],
   "source": [
    "def wants_all_toppings(ketchup, mustard, onion):\n",
    "    \"\"\"Return whether the customer wants \"the works\" (all 3 toppings)\n",
    "    \"\"\"\n",
    "    return ketchup and mustard and onion\n",
    "\n",
    "# Check your answer\n",
    "q5.a.check()"
   ]
  },
  {
   "cell_type": "code",
   "execution_count": 14,
   "id": "97e7e5e8",
   "metadata": {
    "execution": {
     "iopub.execute_input": "2021-08-07T08:46:45.832931Z",
     "iopub.status.busy": "2021-08-07T08:46:45.831735Z",
     "iopub.status.idle": "2021-08-07T08:46:45.843496Z",
     "shell.execute_reply": "2021-08-07T08:46:45.842809Z",
     "shell.execute_reply.started": "2021-08-07T07:53:51.254039Z"
    },
    "papermill": {
     "duration": 0.060383,
     "end_time": "2021-08-07T08:46:45.843642",
     "exception": false,
     "start_time": "2021-08-07T08:46:45.783259",
     "status": "completed"
    },
    "tags": []
   },
   "outputs": [
    {
     "data": {
      "application/javascript": [
       "parent.postMessage({\"jupyterEvent\": \"custom.exercise_interaction\", \"data\": {\"interactionType\": 2, \"questionType\": 2, \"questionId\": \"5.1_AllToppings\", \"learnToolsVersion\": \"0.3.4\", \"valueTowardsCompletion\": 0.0, \"failureMessage\": \"\", \"exceptionClass\": \"\", \"trace\": \"\", \"outcomeType\": 4}}, \"*\")"
      ],
      "text/plain": [
       "<IPython.core.display.Javascript object>"
      ]
     },
     "metadata": {},
     "output_type": "display_data"
    },
    {
     "data": {
      "text/markdown": [
       "<span style=\"color:#3366cc\">Hint:</span> You'll need to use the `and` operator."
      ],
      "text/plain": [
       "Hint: You'll need to use the `and` operator."
      ]
     },
     "metadata": {},
     "output_type": "display_data"
    },
    {
     "data": {
      "application/javascript": [
       "parent.postMessage({\"jupyterEvent\": \"custom.exercise_interaction\", \"data\": {\"interactionType\": 3, \"questionType\": 2, \"questionId\": \"5.1_AllToppings\", \"learnToolsVersion\": \"0.3.4\", \"valueTowardsCompletion\": 0.0, \"failureMessage\": \"\", \"exceptionClass\": \"\", \"trace\": \"\", \"outcomeType\": 4}}, \"*\")"
      ],
      "text/plain": [
       "<IPython.core.display.Javascript object>"
      ]
     },
     "metadata": {},
     "output_type": "display_data"
    },
    {
     "data": {
      "text/markdown": [
       "<span style=\"color:#33cc99\">Solution:</span> \n",
       "```python\n",
       "return ketchup and mustard and onion\n",
       "```"
      ],
      "text/plain": [
       "Solution: \n",
       "```python\n",
       "return ketchup and mustard and onion\n",
       "```"
      ]
     },
     "metadata": {},
     "output_type": "display_data"
    }
   ],
   "source": [
    "q5.a.hint()\n",
    "q5.a.solution()"
   ]
  },
  {
   "cell_type": "markdown",
   "id": "2a487372",
   "metadata": {
    "papermill": {
     "duration": 0.044891,
     "end_time": "2021-08-07T08:46:45.933739",
     "exception": false,
     "start_time": "2021-08-07T08:46:45.888848",
     "status": "completed"
    },
    "tags": []
   },
   "source": [
    "# 5b.\n",
    "\n",
    "For the next function, fill in the body to match the English description in the docstring. "
   ]
  },
  {
   "cell_type": "code",
   "execution_count": 15,
   "id": "c32f559f",
   "metadata": {
    "execution": {
     "iopub.execute_input": "2021-08-07T08:46:46.030782Z",
     "iopub.status.busy": "2021-08-07T08:46:46.029711Z",
     "iopub.status.idle": "2021-08-07T08:46:46.037365Z",
     "shell.execute_reply": "2021-08-07T08:46:46.036784Z",
     "shell.execute_reply.started": "2021-08-07T07:54:59.934220Z"
    },
    "papermill": {
     "duration": 0.059625,
     "end_time": "2021-08-07T08:46:46.037520",
     "exception": false,
     "start_time": "2021-08-07T08:46:45.977895",
     "status": "completed"
    },
    "tags": []
   },
   "outputs": [
    {
     "data": {
      "application/javascript": [
       "parent.postMessage({\"jupyterEvent\": \"custom.exercise_interaction\", \"data\": {\"outcomeType\": 1, \"valueTowardsCompletion\": 0.2, \"interactionType\": 1, \"questionType\": 2, \"questionId\": \"5.2_PlainDog\", \"learnToolsVersion\": \"0.3.4\", \"failureMessage\": \"\", \"exceptionClass\": \"\", \"trace\": \"\"}}, \"*\")"
      ],
      "text/plain": [
       "<IPython.core.display.Javascript object>"
      ]
     },
     "metadata": {},
     "output_type": "display_data"
    },
    {
     "data": {
      "text/markdown": [
       "<span style=\"color:#33cc33\">Correct:</span> \n",
       "\n",
       "One solution looks like:\n",
       "```python\n",
       "return not ketchup and not mustard and not onion\n",
       "```\n",
       "\n",
       "We can also [\"factor out\" the nots](https://en.wikipedia.org/wiki/De_Morgan%27s_laws) to get:\n",
       "\n",
       "```python\n",
       "return not (ketchup or mustard or onion)\n",
       "```"
      ],
      "text/plain": [
       "Correct: \n",
       "\n",
       "One solution looks like:\n",
       "```python\n",
       "return not ketchup and not mustard and not onion\n",
       "```\n",
       "\n",
       "We can also [\"factor out\" the nots](https://en.wikipedia.org/wiki/De_Morgan%27s_laws) to get:\n",
       "\n",
       "```python\n",
       "return not (ketchup or mustard or onion)\n",
       "```"
      ]
     },
     "metadata": {},
     "output_type": "display_data"
    }
   ],
   "source": [
    "def wants_plain_hotdog(ketchup, mustard, onion):\n",
    "    \"\"\"Return whether the customer wants a plain hot dog with no toppings.\n",
    "    \"\"\"\n",
    "    tmp = ketchup or mustard or onion\n",
    "    return not tmp\n",
    "\n",
    "# Check your answer\n",
    "q5.b.check()"
   ]
  },
  {
   "cell_type": "code",
   "execution_count": 16,
   "id": "d7d77565",
   "metadata": {
    "execution": {
     "iopub.execute_input": "2021-08-07T08:46:46.133593Z",
     "iopub.status.busy": "2021-08-07T08:46:46.132857Z",
     "iopub.status.idle": "2021-08-07T08:46:46.140217Z",
     "shell.execute_reply": "2021-08-07T08:46:46.140807Z",
     "shell.execute_reply.started": "2021-08-07T07:55:09.692342Z"
    },
    "papermill": {
     "duration": 0.058395,
     "end_time": "2021-08-07T08:46:46.141013",
     "exception": false,
     "start_time": "2021-08-07T08:46:46.082618",
     "status": "completed"
    },
    "tags": []
   },
   "outputs": [
    {
     "data": {
      "application/javascript": [
       "parent.postMessage({\"jupyterEvent\": \"custom.exercise_interaction\", \"data\": {\"interactionType\": 2, \"questionType\": 2, \"questionId\": \"5.2_PlainDog\", \"learnToolsVersion\": \"0.3.4\", \"valueTowardsCompletion\": 0.0, \"failureMessage\": \"\", \"exceptionClass\": \"\", \"trace\": \"\", \"outcomeType\": 4}}, \"*\")"
      ],
      "text/plain": [
       "<IPython.core.display.Javascript object>"
      ]
     },
     "metadata": {},
     "output_type": "display_data"
    },
    {
     "data": {
      "text/markdown": [
       "<span style=\"color:#3366cc\">Hint:</span> You'll need to use the `not` operator."
      ],
      "text/plain": [
       "Hint: You'll need to use the `not` operator."
      ]
     },
     "metadata": {},
     "output_type": "display_data"
    },
    {
     "data": {
      "application/javascript": [
       "parent.postMessage({\"jupyterEvent\": \"custom.exercise_interaction\", \"data\": {\"interactionType\": 3, \"questionType\": 2, \"questionId\": \"5.2_PlainDog\", \"learnToolsVersion\": \"0.3.4\", \"valueTowardsCompletion\": 0.0, \"failureMessage\": \"\", \"exceptionClass\": \"\", \"trace\": \"\", \"outcomeType\": 4}}, \"*\")"
      ],
      "text/plain": [
       "<IPython.core.display.Javascript object>"
      ]
     },
     "metadata": {},
     "output_type": "display_data"
    },
    {
     "data": {
      "text/markdown": [
       "<span style=\"color:#33cc99\">Solution:</span> One solution looks like:\n",
       "```python\n",
       "return not ketchup and not mustard and not onion\n",
       "```\n",
       "\n",
       "We can also [\"factor out\" the nots](https://en.wikipedia.org/wiki/De_Morgan%27s_laws) to get:\n",
       "\n",
       "```python\n",
       "return not (ketchup or mustard or onion)\n",
       "```"
      ],
      "text/plain": [
       "Solution: One solution looks like:\n",
       "```python\n",
       "return not ketchup and not mustard and not onion\n",
       "```\n",
       "\n",
       "We can also [\"factor out\" the nots](https://en.wikipedia.org/wiki/De_Morgan%27s_laws) to get:\n",
       "\n",
       "```python\n",
       "return not (ketchup or mustard or onion)\n",
       "```"
      ]
     },
     "metadata": {},
     "output_type": "display_data"
    }
   ],
   "source": [
    "q5.b.hint()\n",
    "q5.b.solution()"
   ]
  },
  {
   "cell_type": "markdown",
   "id": "8be17c3b",
   "metadata": {
    "papermill": {
     "duration": 0.050926,
     "end_time": "2021-08-07T08:46:46.239521",
     "exception": false,
     "start_time": "2021-08-07T08:46:46.188595",
     "status": "completed"
    },
    "tags": []
   },
   "source": [
    "# 5c.\n",
    "\n",
    "You know what to do: for the next function, fill in the body to match the English description in the docstring."
   ]
  },
  {
   "cell_type": "code",
   "execution_count": 17,
   "id": "11ba607a",
   "metadata": {
    "execution": {
     "iopub.execute_input": "2021-08-07T08:46:46.339218Z",
     "iopub.status.busy": "2021-08-07T08:46:46.338450Z",
     "iopub.status.idle": "2021-08-07T08:46:46.348327Z",
     "shell.execute_reply": "2021-08-07T08:46:46.347682Z",
     "shell.execute_reply.started": "2021-08-07T08:01:24.611602Z"
    },
    "papermill": {
     "duration": 0.061051,
     "end_time": "2021-08-07T08:46:46.348465",
     "exception": false,
     "start_time": "2021-08-07T08:46:46.287414",
     "status": "completed"
    },
    "tags": []
   },
   "outputs": [
    {
     "data": {
      "application/javascript": [
       "parent.postMessage({\"jupyterEvent\": \"custom.exercise_interaction\", \"data\": {\"outcomeType\": 1, \"valueTowardsCompletion\": 0.2, \"interactionType\": 1, \"questionType\": 2, \"questionId\": \"5.3_OneSauce\", \"learnToolsVersion\": \"0.3.4\", \"failureMessage\": \"\", \"exceptionClass\": \"\", \"trace\": \"\"}}, \"*\")"
      ],
      "text/plain": [
       "<IPython.core.display.Javascript object>"
      ]
     },
     "metadata": {},
     "output_type": "display_data"
    },
    {
     "data": {
      "text/markdown": [
       "<span style=\"color:#33cc33\">Correct</span>"
      ],
      "text/plain": [
       "Correct"
      ]
     },
     "metadata": {},
     "output_type": "display_data"
    }
   ],
   "source": [
    "def exactly_one_sauce(ketchup, mustard, onion):\n",
    "    \"\"\"Return whether the customer wants either ketchup or mustard, but not both.\n",
    "    (You may be familiar with this operation under the name \"exclusive or\")\n",
    "    \"\"\"\n",
    "    ketchup=int(ketchup)\n",
    "    mustard = int(mustard)\n",
    "    if ketchup + mustard ==1:\n",
    "        return True\n",
    "    else:\n",
    "        return False\n",
    "# Check your answer\n",
    "q5.c.check()"
   ]
  },
  {
   "cell_type": "code",
   "execution_count": 18,
   "id": "57098629",
   "metadata": {
    "execution": {
     "iopub.execute_input": "2021-08-07T08:46:46.452652Z",
     "iopub.status.busy": "2021-08-07T08:46:46.451894Z",
     "iopub.status.idle": "2021-08-07T08:46:46.458933Z",
     "shell.execute_reply": "2021-08-07T08:46:46.459490Z",
     "shell.execute_reply.started": "2021-08-07T08:01:27.022870Z"
    },
    "papermill": {
     "duration": 0.062772,
     "end_time": "2021-08-07T08:46:46.459683",
     "exception": false,
     "start_time": "2021-08-07T08:46:46.396911",
     "status": "completed"
    },
    "tags": []
   },
   "outputs": [
    {
     "data": {
      "application/javascript": [
       "parent.postMessage({\"jupyterEvent\": \"custom.exercise_interaction\", \"data\": {\"interactionType\": 2, \"questionType\": 2, \"questionId\": \"5.3_OneSauce\", \"learnToolsVersion\": \"0.3.4\", \"valueTowardsCompletion\": 0.0, \"failureMessage\": \"\", \"exceptionClass\": \"\", \"trace\": \"\", \"outcomeType\": 4}}, \"*\")"
      ],
      "text/plain": [
       "<IPython.core.display.Javascript object>"
      ]
     },
     "metadata": {},
     "output_type": "display_data"
    },
    {
     "data": {
      "text/markdown": [
       "<span style=\"color:#3366cc\">Hint:</span> There are exactly two ways to set ketchup and mustard to make this true. What are they?"
      ],
      "text/plain": [
       "Hint: There are exactly two ways to set ketchup and mustard to make this true. What are they?"
      ]
     },
     "metadata": {},
     "output_type": "display_data"
    },
    {
     "data": {
      "application/javascript": [
       "parent.postMessage({\"jupyterEvent\": \"custom.exercise_interaction\", \"data\": {\"interactionType\": 3, \"questionType\": 2, \"questionId\": \"5.3_OneSauce\", \"learnToolsVersion\": \"0.3.4\", \"valueTowardsCompletion\": 0.0, \"failureMessage\": \"\", \"exceptionClass\": \"\", \"trace\": \"\", \"outcomeType\": 4}}, \"*\")"
      ],
      "text/plain": [
       "<IPython.core.display.Javascript object>"
      ]
     },
     "metadata": {},
     "output_type": "display_data"
    },
    {
     "data": {
      "text/markdown": [
       "<span style=\"color:#33cc99\">Solution:</span> \n",
       "```python\n",
       "return (ketchup and not mustard) or (mustard and not ketchup)\n",
       "```"
      ],
      "text/plain": [
       "Solution: \n",
       "```python\n",
       "return (ketchup and not mustard) or (mustard and not ketchup)\n",
       "```"
      ]
     },
     "metadata": {},
     "output_type": "display_data"
    }
   ],
   "source": [
    "q5.c.hint()\n",
    "q5.c.solution()"
   ]
  },
  {
   "cell_type": "markdown",
   "id": "7276d44b",
   "metadata": {
    "papermill": {
     "duration": 0.053036,
     "end_time": "2021-08-07T08:46:46.564488",
     "exception": false,
     "start_time": "2021-08-07T08:46:46.511452",
     "status": "completed"
    },
    "tags": []
   },
   "source": [
    "# 6. <span title=\"A bit spicy\" style=\"color: darkgreen \">🌶️</span>\n",
    "\n",
    "We’ve seen that calling `bool()` on an integer returns `False` if it’s equal to 0 and `True` otherwise. What happens if we call `int()` on a bool? Try it out in the notebook cell below.\n",
    "\n",
    "Can you take advantage of this to write a succinct function that corresponds to the English sentence \"does the customer want exactly one topping?\"?"
   ]
  },
  {
   "cell_type": "code",
   "execution_count": 19,
   "id": "105bc2ef",
   "metadata": {
    "execution": {
     "iopub.execute_input": "2021-08-07T08:46:46.667772Z",
     "iopub.status.busy": "2021-08-07T08:46:46.667078Z",
     "iopub.status.idle": "2021-08-07T08:46:46.675184Z",
     "shell.execute_reply": "2021-08-07T08:46:46.675665Z",
     "shell.execute_reply.started": "2021-08-07T08:03:16.202261Z"
    },
    "papermill": {
     "duration": 0.06143,
     "end_time": "2021-08-07T08:46:46.675854",
     "exception": false,
     "start_time": "2021-08-07T08:46:46.614424",
     "status": "completed"
    },
    "tags": []
   },
   "outputs": [
    {
     "data": {
      "application/javascript": [
       "parent.postMessage({\"jupyterEvent\": \"custom.exercise_interaction\", \"data\": {\"outcomeType\": 1, \"valueTowardsCompletion\": 0.2, \"interactionType\": 1, \"questionType\": 2, \"questionId\": \"6_OneTopping\", \"learnToolsVersion\": \"0.3.4\", \"failureMessage\": \"\", \"exceptionClass\": \"\", \"trace\": \"\"}}, \"*\")"
      ],
      "text/plain": [
       "<IPython.core.display.Javascript object>"
      ]
     },
     "metadata": {},
     "output_type": "display_data"
    },
    {
     "data": {
      "text/markdown": [
       "<span style=\"color:#33cc33\">Correct:</span> \n",
       "\n",
       "This condition would be pretty complicated to express using just `and`, `or` and `not`, but using boolean-to-integer conversion gives us this short solution:\n",
       "```python\n",
       "return (int(ketchup) + int(mustard) + int(onion)) == 1\n",
       "```\n",
       "\n",
       "Fun fact: we don't technically need to call `int` on the arguments. Just by doing addition with booleans, Python implicitly does the integer conversion. So we could also write...\n",
       "\n",
       "```python\n",
       "return (ketchup + mustard + onion) == 1\n",
       "```"
      ],
      "text/plain": [
       "Correct: \n",
       "\n",
       "This condition would be pretty complicated to express using just `and`, `or` and `not`, but using boolean-to-integer conversion gives us this short solution:\n",
       "```python\n",
       "return (int(ketchup) + int(mustard) + int(onion)) == 1\n",
       "```\n",
       "\n",
       "Fun fact: we don't technically need to call `int` on the arguments. Just by doing addition with booleans, Python implicitly does the integer conversion. So we could also write...\n",
       "\n",
       "```python\n",
       "return (ketchup + mustard + onion) == 1\n",
       "```"
      ]
     },
     "metadata": {},
     "output_type": "display_data"
    }
   ],
   "source": [
    "def exactly_one_topping(ketchup, mustard, onion):\n",
    "    \"\"\"Return whether the customer wants exactly one of the three available toppings\n",
    "    on their hot dog.\n",
    "    \"\"\"\n",
    "    ketchup, mustard, onion = int(ketchup),int(mustard),int(onion)\n",
    "    \n",
    "    if ketchup + mustard + onion ==1:\n",
    "        return True\n",
    "    else:\n",
    "        return False\n",
    "\n",
    "# Check your answer\n",
    "q6.check()"
   ]
  },
  {
   "cell_type": "code",
   "execution_count": 20,
   "id": "03c0cee4",
   "metadata": {
    "execution": {
     "iopub.execute_input": "2021-08-07T08:46:46.784327Z",
     "iopub.status.busy": "2021-08-07T08:46:46.783591Z",
     "iopub.status.idle": "2021-08-07T08:46:46.795019Z",
     "shell.execute_reply": "2021-08-07T08:46:46.794491Z",
     "shell.execute_reply.started": "2021-08-07T08:03:25.751738Z"
    },
    "papermill": {
     "duration": 0.066692,
     "end_time": "2021-08-07T08:46:46.795175",
     "exception": false,
     "start_time": "2021-08-07T08:46:46.728483",
     "status": "completed"
    },
    "tags": []
   },
   "outputs": [
    {
     "data": {
      "application/javascript": [
       "parent.postMessage({\"jupyterEvent\": \"custom.exercise_interaction\", \"data\": {\"interactionType\": 2, \"questionType\": 2, \"questionId\": \"6_OneTopping\", \"learnToolsVersion\": \"0.3.4\", \"valueTowardsCompletion\": 0.0, \"failureMessage\": \"\", \"exceptionClass\": \"\", \"trace\": \"\", \"outcomeType\": 4}}, \"*\")"
      ],
      "text/plain": [
       "<IPython.core.display.Javascript object>"
      ]
     },
     "metadata": {},
     "output_type": "display_data"
    },
    {
     "data": {
      "text/markdown": [
       "<span style=\"color:#3366cc\">Hint:</span> You may have already found that `int(True)` is 1, and `int(False)` is 0. Think about what kinds of basic arithmetic operations you might want to perform on `ketchup`, `mustard`, and `onion` after converting them to integers."
      ],
      "text/plain": [
       "Hint: You may have already found that `int(True)` is 1, and `int(False)` is 0. Think about what kinds of basic arithmetic operations you might want to perform on `ketchup`, `mustard`, and `onion` after converting them to integers."
      ]
     },
     "metadata": {},
     "output_type": "display_data"
    },
    {
     "data": {
      "application/javascript": [
       "parent.postMessage({\"jupyterEvent\": \"custom.exercise_interaction\", \"data\": {\"interactionType\": 3, \"questionType\": 2, \"questionId\": \"6_OneTopping\", \"learnToolsVersion\": \"0.3.4\", \"valueTowardsCompletion\": 0.0, \"failureMessage\": \"\", \"exceptionClass\": \"\", \"trace\": \"\", \"outcomeType\": 4}}, \"*\")"
      ],
      "text/plain": [
       "<IPython.core.display.Javascript object>"
      ]
     },
     "metadata": {},
     "output_type": "display_data"
    },
    {
     "data": {
      "text/markdown": [
       "<span style=\"color:#33cc99\">Solution:</span> This condition would be pretty complicated to express using just `and`, `or` and `not`, but using boolean-to-integer conversion gives us this short solution:\n",
       "```python\n",
       "return (int(ketchup) + int(mustard) + int(onion)) == 1\n",
       "```\n",
       "\n",
       "Fun fact: we don't technically need to call `int` on the arguments. Just by doing addition with booleans, Python implicitly does the integer conversion. So we could also write...\n",
       "\n",
       "```python\n",
       "return (ketchup + mustard + onion) == 1\n",
       "```"
      ],
      "text/plain": [
       "Solution: This condition would be pretty complicated to express using just `and`, `or` and `not`, but using boolean-to-integer conversion gives us this short solution:\n",
       "```python\n",
       "return (int(ketchup) + int(mustard) + int(onion)) == 1\n",
       "```\n",
       "\n",
       "Fun fact: we don't technically need to call `int` on the arguments. Just by doing addition with booleans, Python implicitly does the integer conversion. So we could also write...\n",
       "\n",
       "```python\n",
       "return (ketchup + mustard + onion) == 1\n",
       "```"
      ]
     },
     "metadata": {},
     "output_type": "display_data"
    }
   ],
   "source": [
    "q6.hint()\n",
    "q6.solution()"
   ]
  },
  {
   "cell_type": "markdown",
   "id": "04537612",
   "metadata": {
    "papermill": {
     "duration": 0.052848,
     "end_time": "2021-08-07T08:46:46.900848",
     "exception": false,
     "start_time": "2021-08-07T08:46:46.848000",
     "status": "completed"
    },
    "tags": []
   },
   "source": [
    "# 7. <span title=\"A bit spicy\" style=\"color: darkgreen \">🌶️</span> (Optional)\n",
    "\n",
    "In this problem we'll be working with a simplified version of [blackjack](https://en.wikipedia.org/wiki/Blackjack) (aka twenty-one). In this version there is one player (who you'll control) and a dealer. Play proceeds as follows:\n",
    "\n",
    "- The player is dealt two face-up cards. The dealer is dealt one face-up card.\n",
    "- The player may ask to be dealt another card ('hit') as many times as they wish. If the sum of their cards exceeds 21, they lose the round immediately.\n",
    "- The dealer then deals additional cards to himself until either:\n",
    "    - the sum of the dealer's cards exceeds 21, in which case the player wins the round\n",
    "    - the sum of the dealer's cards is greater than or equal to 17. If the player's total is greater than the dealer's, the player wins. Otherwise, the dealer wins (even in case of a tie).\n",
    "    \n",
    "When calculating the sum of cards, Jack, Queen, and King count for 10. Aces can count as 1 or 11 (when referring to a player's \"total\" above, we mean the largest total that can be made without exceeding 21. So e.g. A+8 = 19, A+8+8 = 17)\n",
    "\n",
    "For this problem, you'll write a function representing the player's decision-making strategy in this game. We've provided a very unintelligent implementation below:"
   ]
  },
  {
   "cell_type": "code",
   "execution_count": 21,
   "id": "549e526d",
   "metadata": {
    "execution": {
     "iopub.execute_input": "2021-08-07T08:46:47.012962Z",
     "iopub.status.busy": "2021-08-07T08:46:47.012284Z",
     "iopub.status.idle": "2021-08-07T08:46:47.014344Z",
     "shell.execute_reply": "2021-08-07T08:46:47.014835Z",
     "shell.execute_reply.started": "2021-08-07T08:26:21.028594Z"
    },
    "papermill": {
     "duration": 0.061109,
     "end_time": "2021-08-07T08:46:47.015026",
     "exception": false,
     "start_time": "2021-08-07T08:46:46.953917",
     "status": "completed"
    },
    "tags": []
   },
   "outputs": [],
   "source": [
    "def should_hit(dealer_total, player_total, player_low_aces, player_high_aces):\n",
    "    \"\"\"Return True if the player should hit (request another card) given the current game\n",
    "    state, or False if the player should stay.\n",
    "    When calculating a hand's total value, we count aces as \"high\" (with value 11) if doing so\n",
    "    doesn't bring the total above 21, otherwise we count them as low (with value 1). \n",
    "    For example, if the player's hand is {A, A, A, 7}, we will count it as 11 + 1 + 1 + 7,\n",
    "    and therefore set player_total=20, player_low_aces=2, player_high_aces=1.\n",
    "    \"\"\"\n",
    "    return False\n",
    "\n",
    "    \n"
   ]
  },
  {
   "cell_type": "markdown",
   "id": "9993e8b5",
   "metadata": {
    "papermill": {
     "duration": 0.053678,
     "end_time": "2021-08-07T08:46:47.121814",
     "exception": false,
     "start_time": "2021-08-07T08:46:47.068136",
     "status": "completed"
    },
    "tags": []
   },
   "source": [
    "This very conservative agent *always* sticks with the hand of two cards that they're dealt.\n",
    "\n",
    "We'll be simulating games between your player agent and our own dealer agent by calling your function.\n",
    "\n",
    "Try running the function below to see an example of a simulated game:"
   ]
  },
  {
   "cell_type": "code",
   "execution_count": 22,
   "id": "5ee22595",
   "metadata": {
    "execution": {
     "iopub.execute_input": "2021-08-07T08:46:47.237149Z",
     "iopub.status.busy": "2021-08-07T08:46:47.236363Z",
     "iopub.status.idle": "2021-08-07T08:46:47.244745Z",
     "shell.execute_reply": "2021-08-07T08:46:47.244179Z",
     "shell.execute_reply.started": "2021-08-07T08:26:22.124973Z"
    },
    "papermill": {
     "duration": 0.070285,
     "end_time": "2021-08-07T08:46:47.244899",
     "exception": false,
     "start_time": "2021-08-07T08:46:47.174614",
     "status": "completed"
    },
    "tags": []
   },
   "outputs": [
    {
     "name": "stdout",
     "output_type": "stream",
     "text": [
      "Player starts with 7 and K (total = 17)\n",
      "Dealer starts with 2\n",
      "\n",
      "__Player's turn__\n",
      "Player stays\n",
      "\n",
      "__Dealer's turn__\n",
      "Dealer hits and receives J. (total = 12)\n",
      "Dealer hits and receives 2. (total = 14)\n",
      "Dealer hits and receives 6. (total = 20)\n",
      "Dealer stands.\n",
      "Dealer wins. 20 >= 17\n"
     ]
    }
   ],
   "source": [
    "q7.simulate_one_game()"
   ]
  },
  {
   "cell_type": "markdown",
   "id": "104e3895",
   "metadata": {
    "papermill": {
     "duration": 0.052948,
     "end_time": "2021-08-07T08:46:47.351570",
     "exception": false,
     "start_time": "2021-08-07T08:46:47.298622",
     "status": "completed"
    },
    "tags": []
   },
   "source": [
    "The real test of your agent's mettle is their average win rate over many games. Try calling the function below to simulate 50000 games of blackjack (it may take a couple seconds):"
   ]
  },
  {
   "cell_type": "code",
   "execution_count": 23,
   "id": "8021da79",
   "metadata": {
    "execution": {
     "iopub.execute_input": "2021-08-07T08:46:47.482897Z",
     "iopub.status.busy": "2021-08-07T08:46:47.477558Z",
     "iopub.status.idle": "2021-08-07T08:46:49.463225Z",
     "shell.execute_reply": "2021-08-07T08:46:49.464014Z",
     "shell.execute_reply.started": "2021-08-07T08:26:25.665476Z"
    },
    "papermill": {
     "duration": 2.059093,
     "end_time": "2021-08-07T08:46:49.464200",
     "exception": false,
     "start_time": "2021-08-07T08:46:47.405107",
     "status": "completed"
    },
    "tags": []
   },
   "outputs": [
    {
     "name": "stdout",
     "output_type": "stream",
     "text": [
      "Player won 18679 out of 50000 games (win rate = 37.4%)\n"
     ]
    }
   ],
   "source": [
    "q7.simulate(n_games=50000)"
   ]
  },
  {
   "cell_type": "markdown",
   "id": "953f700e",
   "metadata": {
    "papermill": {
     "duration": 0.053212,
     "end_time": "2021-08-07T08:46:49.570661",
     "exception": false,
     "start_time": "2021-08-07T08:46:49.517449",
     "status": "completed"
    },
    "tags": []
   },
   "source": [
    "Our dumb agent that completely ignores the game state still manages to win shockingly often!\n",
    "\n",
    "Try adding some more smarts to the `should_hit` function and see how it affects the results."
   ]
  },
  {
   "cell_type": "code",
   "execution_count": 24,
   "id": "b870b743",
   "metadata": {
    "execution": {
     "iopub.execute_input": "2021-08-07T08:46:49.693330Z",
     "iopub.status.busy": "2021-08-07T08:46:49.687884Z",
     "iopub.status.idle": "2021-08-07T08:46:51.951627Z",
     "shell.execute_reply": "2021-08-07T08:46:51.950585Z",
     "shell.execute_reply.started": "2021-08-07T08:46:10.647326Z"
    },
    "papermill": {
     "duration": 2.327457,
     "end_time": "2021-08-07T08:46:51.951848",
     "exception": false,
     "start_time": "2021-08-07T08:46:49.624391",
     "status": "completed"
    },
    "tags": []
   },
   "outputs": [
    {
     "name": "stdout",
     "output_type": "stream",
     "text": [
      "Player won 20928 out of 50000 games (win rate = 41.9%)\n"
     ]
    }
   ],
   "source": [
    "def should_hit(dealer_total, player_total, player_low_aces, player_high_aces):\n",
    "    \"\"\"Return True if the player should hit (request another card) given the current game\n",
    "    state, or False if the player should stay.\n",
    "    When calculating a hand's total value, we count aces as \"high\" (with value 11) if doing so\n",
    "    doesn't bring the total above 21, otherwise we count them as low (with value 1). \n",
    "    For example, if the player's hand is {A, A, A, 7}, we will count it as 11 + 1 + 1 + 7,\n",
    "    and therefore set player_total=20, player_low_aces=2, player_high_aces=1.\n",
    "    \"\"\"\n",
    "#     if dealer_total >= 17:\n",
    "#         return False\n",
    "    if dealer_total >= player_total:\n",
    "        return True\n",
    "    if player_total>=18:\n",
    "        return False\n",
    "    if player_total<=11:\n",
    "        return True\n",
    "    if player_high_aces>=1:\n",
    "        return True\n",
    "\n",
    "\n",
    "#  \n",
    "\n",
    "    return False\n",
    "q7.simulate(n_games=50000)"
   ]
  },
  {
   "cell_type": "markdown",
   "id": "1156da28",
   "metadata": {
    "papermill": {
     "duration": 0.05657,
     "end_time": "2021-08-07T08:46:52.065615",
     "exception": false,
     "start_time": "2021-08-07T08:46:52.009045",
     "status": "completed"
    },
    "tags": []
   },
   "source": [
    "# Keep Going\n",
    "\n",
    "Learn about **[lists and tuples](https://www.kaggle.com/colinmorris/lists)** to handle multiple items of data in a systematic way."
   ]
  },
  {
   "cell_type": "markdown",
   "id": "0410fe29",
   "metadata": {
    "papermill": {
     "duration": 0.055089,
     "end_time": "2021-08-07T08:46:52.177879",
     "exception": false,
     "start_time": "2021-08-07T08:46:52.122790",
     "status": "completed"
    },
    "tags": []
   },
   "source": [
    "---\n",
    "\n",
    "\n",
    "\n",
    "\n",
    "*Have questions or comments? Visit the [Learn Discussion forum](https://www.kaggle.com/learn-forum/161283) to chat with other Learners.*"
   ]
  }
 ],
 "metadata": {
  "kernelspec": {
   "display_name": "Python 3",
   "language": "python",
   "name": "python3"
  },
  "language_info": {
   "codemirror_mode": {
    "name": "ipython",
    "version": 3
   },
   "file_extension": ".py",
   "mimetype": "text/x-python",
   "name": "python",
   "nbconvert_exporter": "python",
   "pygments_lexer": "ipython3",
   "version": "3.7.10"
  },
  "papermill": {
   "default_parameters": {},
   "duration": 18.918192,
   "end_time": "2021-08-07T08:46:53.742849",
   "environment_variables": {},
   "exception": null,
   "input_path": "__notebook__.ipynb",
   "output_path": "__notebook__.ipynb",
   "parameters": {},
   "start_time": "2021-08-07T08:46:34.824657",
   "version": "2.3.3"
  }
 },
 "nbformat": 4,
 "nbformat_minor": 5
}
