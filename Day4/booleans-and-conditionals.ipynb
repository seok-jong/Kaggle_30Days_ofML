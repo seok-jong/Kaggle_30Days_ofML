{
 "cells": [
  {
   "cell_type": "markdown",
   "id": "3ac9468a",
   "metadata": {
    "papermill": {
     "duration": 0.017386,
     "end_time": "2021-08-06T14:20:53.154725",
     "exception": false,
     "start_time": "2021-08-06T14:20:53.137339",
     "status": "completed"
    },
    "tags": []
   },
   "source": [
    "# Booleans\n",
    "\n",
    "Python has a type of variable called `bool`. It has two possible values: `True` and `False`."
   ]
  },
  {
   "cell_type": "code",
   "execution_count": 1,
   "id": "fab4dd50",
   "metadata": {
    "execution": {
     "iopub.execute_input": "2021-08-06T14:20:53.202074Z",
     "iopub.status.busy": "2021-08-06T14:20:53.197741Z",
     "iopub.status.idle": "2021-08-06T14:20:53.206737Z",
     "shell.execute_reply": "2021-08-06T14:20:53.205971Z"
    },
    "papermill": {
     "duration": 0.035496,
     "end_time": "2021-08-06T14:20:53.206920",
     "exception": false,
     "start_time": "2021-08-06T14:20:53.171424",
     "status": "completed"
    },
    "tags": []
   },
   "outputs": [
    {
     "name": "stdout",
     "output_type": "stream",
     "text": [
      "True\n",
      "<class 'bool'>\n"
     ]
    }
   ],
   "source": [
    "x = True\n",
    "print(x)\n",
    "print(type(x))"
   ]
  },
  {
   "cell_type": "markdown",
   "id": "26e21517",
   "metadata": {
    "papermill": {
     "duration": 0.016127,
     "end_time": "2021-08-06T14:20:53.240337",
     "exception": false,
     "start_time": "2021-08-06T14:20:53.224210",
     "status": "completed"
    },
    "tags": []
   },
   "source": [
    "Rather than putting `True` or `False` directly in our code, we usually get boolean values from **boolean operators**.  These are operators that answer yes/no questions. We'll go through some of these operators below. "
   ]
  },
  {
   "cell_type": "markdown",
   "id": "1073257c",
   "metadata": {
    "papermill": {
     "duration": 0.016217,
     "end_time": "2021-08-06T14:20:53.273244",
     "exception": false,
     "start_time": "2021-08-06T14:20:53.257027",
     "status": "completed"
    },
    "tags": []
   },
   "source": [
    "## Comparison Operations\n",
    "\n",
    "| Operation     | Description                       || Operation     | Description                          |\n",
    "|---------------|-----------------------------------||---------------|--------------------------------------|\n",
    "| ``a == b``    | ``a`` equal to ``b``              || ``a != b``    | ``a`` not equal to ``b``             |\n",
    "| ``a < b``     | ``a`` less than ``b``             || ``a > b``     | ``a`` greater than ``b``             |\n",
    "| ``a <= b``    | ``a`` less than or equal to ``b`` || ``a >= b``    | ``a`` greater than or equal to ``b`` |\n",
    "\n"
   ]
  },
  {
   "cell_type": "code",
   "execution_count": 2,
   "id": "17b6bb8c",
   "metadata": {
    "execution": {
     "iopub.execute_input": "2021-08-06T14:20:53.309801Z",
     "iopub.status.busy": "2021-08-06T14:20:53.309106Z",
     "iopub.status.idle": "2021-08-06T14:20:53.315888Z",
     "shell.execute_reply": "2021-08-06T14:20:53.316337Z"
    },
    "papermill": {
     "duration": 0.026657,
     "end_time": "2021-08-06T14:20:53.316576",
     "exception": false,
     "start_time": "2021-08-06T14:20:53.289919",
     "status": "completed"
    },
    "tags": []
   },
   "outputs": [
    {
     "name": "stdout",
     "output_type": "stream",
     "text": [
      "Can a 19-year-old run for president? False\n",
      "Can a 45-year-old run for president? True\n"
     ]
    }
   ],
   "source": [
    "def can_run_for_president(age):\n",
    "    \"\"\"Can someone of the given age run for president in the US?\"\"\"\n",
    "    # The US Constitution says you must be at least 35 years old\n",
    "    return age >= 35\n",
    "\n",
    "print(\"Can a 19-year-old run for president?\", can_run_for_president(19))\n",
    "print(\"Can a 45-year-old run for president?\", can_run_for_president(45))"
   ]
  },
  {
   "cell_type": "markdown",
   "id": "92de6004",
   "metadata": {
    "papermill": {
     "duration": 0.01647,
     "end_time": "2021-08-06T14:20:53.350072",
     "exception": false,
     "start_time": "2021-08-06T14:20:53.333602",
     "status": "completed"
    },
    "tags": []
   },
   "source": [
    "Comparisons frequently work like you'd hope"
   ]
  },
  {
   "cell_type": "code",
   "execution_count": 3,
   "id": "5fea449a",
   "metadata": {
    "execution": {
     "iopub.execute_input": "2021-08-06T14:20:53.387328Z",
     "iopub.status.busy": "2021-08-06T14:20:53.386738Z",
     "iopub.status.idle": "2021-08-06T14:20:53.393609Z",
     "shell.execute_reply": "2021-08-06T14:20:53.394119Z"
    },
    "papermill": {
     "duration": 0.027157,
     "end_time": "2021-08-06T14:20:53.394301",
     "exception": false,
     "start_time": "2021-08-06T14:20:53.367144",
     "status": "completed"
    },
    "tags": []
   },
   "outputs": [
    {
     "data": {
      "text/plain": [
       "True"
      ]
     },
     "execution_count": 3,
     "metadata": {},
     "output_type": "execute_result"
    }
   ],
   "source": [
    "3.0 == 3"
   ]
  },
  {
   "cell_type": "markdown",
   "id": "25a4fa70",
   "metadata": {
    "papermill": {
     "duration": 0.017239,
     "end_time": "2021-08-06T14:20:53.429639",
     "exception": false,
     "start_time": "2021-08-06T14:20:53.412400",
     "status": "completed"
    },
    "tags": []
   },
   "source": [
    "But sometimes they can be tricky"
   ]
  },
  {
   "cell_type": "code",
   "execution_count": 4,
   "id": "101a8e9e",
   "metadata": {
    "collapsed": true,
    "execution": {
     "iopub.execute_input": "2021-08-06T14:20:53.468409Z",
     "iopub.status.busy": "2021-08-06T14:20:53.467772Z",
     "iopub.status.idle": "2021-08-06T14:20:53.473575Z",
     "shell.execute_reply": "2021-08-06T14:20:53.473045Z"
    },
    "jupyter": {
     "outputs_hidden": true
    },
    "papermill": {
     "duration": 0.026392,
     "end_time": "2021-08-06T14:20:53.473736",
     "exception": false,
     "start_time": "2021-08-06T14:20:53.447344",
     "status": "completed"
    },
    "tags": []
   },
   "outputs": [
    {
     "data": {
      "text/plain": [
       "False"
      ]
     },
     "execution_count": 4,
     "metadata": {},
     "output_type": "execute_result"
    }
   ],
   "source": [
    "'3' == 3"
   ]
  },
  {
   "cell_type": "markdown",
   "id": "ce8b1cbe",
   "metadata": {
    "papermill": {
     "duration": 0.020442,
     "end_time": "2021-08-06T14:20:53.514573",
     "exception": false,
     "start_time": "2021-08-06T14:20:53.494131",
     "status": "completed"
    },
    "tags": []
   },
   "source": [
    "Comparison operators can be combined with the arithmetic operators we've already seen to express a virtually limitless range of mathematical tests. For example, we can check if a number is odd by checking that the modulus with 2 returns 1:"
   ]
  },
  {
   "cell_type": "code",
   "execution_count": 5,
   "id": "9b153202",
   "metadata": {
    "execution": {
     "iopub.execute_input": "2021-08-06T14:20:53.567789Z",
     "iopub.status.busy": "2021-08-06T14:20:53.566738Z",
     "iopub.status.idle": "2021-08-06T14:20:53.570492Z",
     "shell.execute_reply": "2021-08-06T14:20:53.571263Z"
    },
    "papermill": {
     "duration": 0.038455,
     "end_time": "2021-08-06T14:20:53.571556",
     "exception": false,
     "start_time": "2021-08-06T14:20:53.533101",
     "status": "completed"
    },
    "tags": []
   },
   "outputs": [
    {
     "name": "stdout",
     "output_type": "stream",
     "text": [
      "Is 100 odd? False\n",
      "Is -1 odd? True\n"
     ]
    }
   ],
   "source": [
    "def is_odd(n):\n",
    "    return (n % 2) == 1\n",
    "\n",
    "print(\"Is 100 odd?\", is_odd(100))\n",
    "print(\"Is -1 odd?\", is_odd(-1))"
   ]
  },
  {
   "cell_type": "markdown",
   "id": "56f9032e",
   "metadata": {
    "papermill": {
     "duration": 0.023707,
     "end_time": "2021-08-06T14:20:53.620875",
     "exception": false,
     "start_time": "2021-08-06T14:20:53.597168",
     "status": "completed"
    },
    "tags": []
   },
   "source": [
    "Remember to use `==` instead of `=` when making comparisons. If you write `n == 2` you are asking about the value of n. When you write `n = 2` you are changing the value of n."
   ]
  },
  {
   "cell_type": "markdown",
   "id": "075b2932",
   "metadata": {
    "papermill": {
     "duration": 0.018798,
     "end_time": "2021-08-06T14:20:53.659003",
     "exception": false,
     "start_time": "2021-08-06T14:20:53.640205",
     "status": "completed"
    },
    "tags": []
   },
   "source": [
    "## Combining Boolean Values\n",
    "You can combine boolean values using the standard concepts of \"and\", \"or\", and \"not\". In fact, the words to do this are: ``and``, ``or``, and ``not``.\n",
    "\n",
    "With these, we can make our `can_run_for_president` function more accurate."
   ]
  },
  {
   "cell_type": "code",
   "execution_count": 6,
   "id": "3966c0cd",
   "metadata": {
    "execution": {
     "iopub.execute_input": "2021-08-06T14:20:53.701373Z",
     "iopub.status.busy": "2021-08-06T14:20:53.700350Z",
     "iopub.status.idle": "2021-08-06T14:20:53.708912Z",
     "shell.execute_reply": "2021-08-06T14:20:53.708262Z"
    },
    "papermill": {
     "duration": 0.030647,
     "end_time": "2021-08-06T14:20:53.709076",
     "exception": false,
     "start_time": "2021-08-06T14:20:53.678429",
     "status": "completed"
    },
    "tags": []
   },
   "outputs": [
    {
     "name": "stdout",
     "output_type": "stream",
     "text": [
      "False\n",
      "False\n",
      "True\n"
     ]
    }
   ],
   "source": [
    "def can_run_for_president(age, is_natural_born_citizen):\n",
    "    \"\"\"Can someone of the given age and citizenship status run for president in the US?\"\"\"\n",
    "    # The US Constitution says you must be a natural born citizen *and* at least 35 years old\n",
    "    return is_natural_born_citizen and (age >= 35)\n",
    "\n",
    "print(can_run_for_president(19, True))\n",
    "print(can_run_for_president(55, False))\n",
    "print(can_run_for_president(55, True))"
   ]
  },
  {
   "cell_type": "markdown",
   "id": "54eb8601",
   "metadata": {
    "papermill": {
     "duration": 0.018923,
     "end_time": "2021-08-06T14:20:53.746996",
     "exception": false,
     "start_time": "2021-08-06T14:20:53.728073",
     "status": "completed"
    },
    "tags": []
   },
   "source": [
    "Quick, can you guess the value of this expression?"
   ]
  },
  {
   "cell_type": "code",
   "execution_count": 7,
   "id": "7656a097",
   "metadata": {
    "_kg_hide-output": true,
    "execution": {
     "iopub.execute_input": "2021-08-06T14:20:53.791947Z",
     "iopub.status.busy": "2021-08-06T14:20:53.791105Z",
     "iopub.status.idle": "2021-08-06T14:20:53.795311Z",
     "shell.execute_reply": "2021-08-06T14:20:53.794717Z"
    },
    "papermill": {
     "duration": 0.029089,
     "end_time": "2021-08-06T14:20:53.795472",
     "exception": false,
     "start_time": "2021-08-06T14:20:53.766383",
     "status": "completed"
    },
    "tags": []
   },
   "outputs": [
    {
     "data": {
      "text/plain": [
       "True"
      ]
     },
     "execution_count": 7,
     "metadata": {},
     "output_type": "execute_result"
    }
   ],
   "source": [
    "True or True and False"
   ]
  },
  {
   "cell_type": "markdown",
   "id": "f10cab73",
   "metadata": {
    "papermill": {
     "duration": 0.019341,
     "end_time": "2021-08-06T14:20:53.834335",
     "exception": false,
     "start_time": "2021-08-06T14:20:53.814994",
     "status": "completed"
    },
    "tags": []
   },
   "source": [
    "(Click the \"output\" button to see the answer)\n",
    "\n",
    "To answer this, you'd need to figure out the order of operations. \n",
    "\n",
    "For example, `and` is evaluated before `or`. That's why the first expression above is `True`. If we evaluated it from left to right, we would have calculated `True or True` first (which is `True`), and then taken the `and` of that result with `False`, giving a final value of `False`.\n",
    "\n",
    "You could try to [memorize the order of precedence](https://docs.python.org/3/reference/expressions.html#operator-precedence), but a safer bet is to just use liberal parentheses. Not only does this help prevent bugs, it makes your intentions clearer to anyone who reads your code. \n",
    "\n",
    "For example, consider the following expression:\n",
    "\n",
    "```python\n",
    "prepared_for_weather = have_umbrella or rain_level < 5 and have_hood or not rain_level > 0 and is_workday\n",
    "```\n",
    "\n",
    "I'm trying to say that I'm safe from today's weather....\n",
    "- if I have an umbrella...\n",
    "- or if the rain isn't too heavy and I have a hood...\n",
    "- otherwise, I'm still fine unless it's raining *and* it's a workday\n",
    "\n",
    "But not only is my Python code hard to read, it has a bug. We can address both problems by adding some parentheses:\n",
    "\n",
    "```python\n",
    "prepared_for_weather = have_umbrella or (rain_level < 5 and have_hood) or not (rain_level > 0 and is_workday)\n",
    "```\n",
    "\n",
    "You can add even more parentheses if you think it helps readability:\n",
    "\n",
    "```python\n",
    "prepared_for_weather = have_umbrella or ((rain_level < 5) and have_hood) or (not (rain_level > 0 and is_workday))\n",
    "```\n",
    "\n",
    "We can also split it over multiple lines to emphasize the 3-part structure described above:\n",
    "\n",
    "```python\n",
    "prepared_for_weather = (\n",
    "    have_umbrella \n",
    "    or ((rain_level < 5) and have_hood) \n",
    "    or (not (rain_level > 0 and is_workday))\n",
    ")\n",
    "```"
   ]
  },
  {
   "cell_type": "markdown",
   "id": "9c401def",
   "metadata": {
    "papermill": {
     "duration": 0.020223,
     "end_time": "2021-08-06T14:20:53.874227",
     "exception": false,
     "start_time": "2021-08-06T14:20:53.854004",
     "status": "completed"
    },
    "tags": []
   },
   "source": [
    "# Conditionals\n",
    "\n",
    "Booleans are most useful when combined with *conditional statements*, using the keywords ``if``, ``elif``, and ``else``.\n",
    "\n",
    "Conditional statements, often referred to as *if-then* statements, let you control what pieces of code are run based on the value of some Boolean condition.\n",
    "Here's an example:"
   ]
  },
  {
   "cell_type": "code",
   "execution_count": 8,
   "id": "fcc03106",
   "metadata": {
    "execution": {
     "iopub.execute_input": "2021-08-06T14:20:53.918048Z",
     "iopub.status.busy": "2021-08-06T14:20:53.917033Z",
     "iopub.status.idle": "2021-08-06T14:20:53.925966Z",
     "shell.execute_reply": "2021-08-06T14:20:53.925286Z"
    },
    "papermill": {
     "duration": 0.032121,
     "end_time": "2021-08-06T14:20:53.926137",
     "exception": false,
     "start_time": "2021-08-06T14:20:53.894016",
     "status": "completed"
    },
    "tags": []
   },
   "outputs": [
    {
     "name": "stdout",
     "output_type": "stream",
     "text": [
      "0 is zero\n",
      "-15 is negative\n"
     ]
    }
   ],
   "source": [
    "def inspect(x):\n",
    "    if x == 0:\n",
    "        print(x, \"is zero\")\n",
    "    elif x > 0:\n",
    "        print(x, \"is positive\")\n",
    "    elif x < 0:\n",
    "        print(x, \"is negative\")\n",
    "    else:\n",
    "        print(x, \"is unlike anything I've ever seen...\")\n",
    "\n",
    "inspect(0)\n",
    "inspect(-15)"
   ]
  },
  {
   "cell_type": "markdown",
   "id": "b2c99aa4",
   "metadata": {
    "papermill": {
     "duration": 0.019095,
     "end_time": "2021-08-06T14:20:53.965980",
     "exception": false,
     "start_time": "2021-08-06T14:20:53.946885",
     "status": "completed"
    },
    "tags": []
   },
   "source": [
    "The ``if`` and ``else`` keywords are often used in other languages; its more unique keyword is ``elif``, a contraction of \"else if\".\n",
    "In these conditional clauses, ``elif`` and ``else`` blocks are optional; additionally, you can include as many ``elif`` statements as you would like.\n",
    "\n",
    "Note especially the use of colons (``:``) and whitespace to denote separate blocks of code. This is similar to what happens when we define a function - the function header ends with `:`, and the following line is indented with 4 spaces. All subsequent indented lines belong to the body of the function, until we encounter an unindented line, ending the function definition."
   ]
  },
  {
   "cell_type": "code",
   "execution_count": 9,
   "id": "57f844f0",
   "metadata": {
    "execution": {
     "iopub.execute_input": "2021-08-06T14:20:54.012531Z",
     "iopub.status.busy": "2021-08-06T14:20:54.011750Z",
     "iopub.status.idle": "2021-08-06T14:20:54.016605Z",
     "shell.execute_reply": "2021-08-06T14:20:54.015947Z"
    },
    "papermill": {
     "duration": 0.031438,
     "end_time": "2021-08-06T14:20:54.016761",
     "exception": false,
     "start_time": "2021-08-06T14:20:53.985323",
     "status": "completed"
    },
    "tags": []
   },
   "outputs": [
    {
     "name": "stdout",
     "output_type": "stream",
     "text": [
      "Only printed when x is positive; x = 1\n",
      "Also only printed when x is positive; x = 1\n",
      "Always printed, regardless of x's value; x = 1\n",
      "Always printed, regardless of x's value; x = 0\n"
     ]
    }
   ],
   "source": [
    "def f(x):\n",
    "    if x > 0:\n",
    "        print(\"Only printed when x is positive; x =\", x)\n",
    "        print(\"Also only printed when x is positive; x =\", x)\n",
    "    print(\"Always printed, regardless of x's value; x =\", x)\n",
    "\n",
    "f(1)\n",
    "f(0)"
   ]
  },
  {
   "cell_type": "markdown",
   "id": "f3668c47",
   "metadata": {
    "papermill": {
     "duration": 0.020623,
     "end_time": "2021-08-06T14:20:54.057850",
     "exception": false,
     "start_time": "2021-08-06T14:20:54.037227",
     "status": "completed"
    },
    "tags": []
   },
   "source": [
    "## Boolean conversion\n",
    "\n",
    "We've seen `int()`, which turns things into ints, and `float()`, which turns things into floats, so you might not be surprised to hear that Python has a `bool()` function which turns things into bools."
   ]
  },
  {
   "cell_type": "code",
   "execution_count": 10,
   "id": "4f54b47d",
   "metadata": {
    "execution": {
     "iopub.execute_input": "2021-08-06T14:20:54.107154Z",
     "iopub.status.busy": "2021-08-06T14:20:54.106071Z",
     "iopub.status.idle": "2021-08-06T14:20:54.111270Z",
     "shell.execute_reply": "2021-08-06T14:20:54.110172Z"
    },
    "papermill": {
     "duration": 0.032892,
     "end_time": "2021-08-06T14:20:54.111512",
     "exception": false,
     "start_time": "2021-08-06T14:20:54.078620",
     "status": "completed"
    },
    "tags": []
   },
   "outputs": [
    {
     "name": "stdout",
     "output_type": "stream",
     "text": [
      "True\n",
      "False\n",
      "True\n",
      "False\n"
     ]
    }
   ],
   "source": [
    "print(bool(1)) # all numbers are treated as true, except 0\n",
    "print(bool(0))\n",
    "print(bool(\"asf\")) # all strings are treated as true, except the empty string \"\"\n",
    "print(bool(\"\"))\n",
    "# Generally empty sequences (strings, lists, and other types we've yet to see like lists and tuples)\n",
    "# are \"falsey\" and the rest are \"truthy\""
   ]
  },
  {
   "cell_type": "markdown",
   "id": "1305c94d",
   "metadata": {
    "papermill": {
     "duration": 0.020983,
     "end_time": "2021-08-06T14:20:54.154871",
     "exception": false,
     "start_time": "2021-08-06T14:20:54.133888",
     "status": "completed"
    },
    "tags": []
   },
   "source": [
    "We can use non-boolean objects in `if` conditions and other places where a boolean would be expected. Python will implicitly treat them as their corresponding boolean value:"
   ]
  },
  {
   "cell_type": "code",
   "execution_count": 11,
   "id": "1c1d9b90",
   "metadata": {
    "execution": {
     "iopub.execute_input": "2021-08-06T14:20:54.203074Z",
     "iopub.status.busy": "2021-08-06T14:20:54.202327Z",
     "iopub.status.idle": "2021-08-06T14:20:54.205774Z",
     "shell.execute_reply": "2021-08-06T14:20:54.205109Z"
    },
    "papermill": {
     "duration": 0.029975,
     "end_time": "2021-08-06T14:20:54.205938",
     "exception": false,
     "start_time": "2021-08-06T14:20:54.175963",
     "status": "completed"
    },
    "tags": []
   },
   "outputs": [
    {
     "name": "stdout",
     "output_type": "stream",
     "text": [
      "spam\n"
     ]
    }
   ],
   "source": [
    "if 0:\n",
    "    print(0)\n",
    "elif \"spam\":\n",
    "    print(\"spam\")"
   ]
  },
  {
   "cell_type": "markdown",
   "id": "6844fea7",
   "metadata": {
    "papermill": {
     "duration": 0.021304,
     "end_time": "2021-08-06T14:20:54.248582",
     "exception": false,
     "start_time": "2021-08-06T14:20:54.227278",
     "status": "completed"
    },
    "tags": []
   },
   "source": [
    "# Your Turn\n",
    "\n",
    "You probably don't realize how much you have learned so far. Go try the **[hands-on coding problems](https://www.kaggle.com/kernels/fork/1275165)**, and you'll be pleasantly surprised about how much you can do."
   ]
  },
  {
   "cell_type": "markdown",
   "id": "fdabdc53",
   "metadata": {
    "papermill": {
     "duration": 0.020877,
     "end_time": "2021-08-06T14:20:54.290977",
     "exception": false,
     "start_time": "2021-08-06T14:20:54.270100",
     "status": "completed"
    },
    "tags": []
   },
   "source": [
    "---\n",
    "\n",
    "\n",
    "\n",
    "\n",
    "*Have questions or comments? Visit the [Learn Discussion forum](https://www.kaggle.com/learn-forum/161283) to chat with other Learners.*"
   ]
  }
 ],
 "metadata": {
  "kernelspec": {
   "display_name": "Python 3",
   "language": "python",
   "name": "python3"
  },
  "language_info": {
   "codemirror_mode": {
    "name": "ipython",
    "version": 3
   },
   "file_extension": ".py",
   "mimetype": "text/x-python",
   "name": "python",
   "nbconvert_exporter": "python",
   "pygments_lexer": "ipython3",
   "version": "3.7.10"
  },
  "papermill": {
   "default_parameters": {},
   "duration": 10.798266,
   "end_time": "2021-08-06T14:20:55.659885",
   "environment_variables": {},
   "exception": null,
   "input_path": "__notebook__.ipynb",
   "output_path": "__notebook__.ipynb",
   "parameters": {},
   "start_time": "2021-08-06T14:20:44.861619",
   "version": "2.3.3"
  }
 },
 "nbformat": 4,
 "nbformat_minor": 5
}
