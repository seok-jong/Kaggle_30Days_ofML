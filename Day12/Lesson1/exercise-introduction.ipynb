{
 "cells": [
  {
   "cell_type": "markdown",
   "id": "dc533514",
   "metadata": {
    "papermill": {
     "duration": 0.017191,
     "end_time": "2021-08-19T06:11:31.101147",
     "exception": false,
     "start_time": "2021-08-19T06:11:31.083956",
     "status": "completed"
    },
    "tags": []
   },
   "source": [
    "**This notebook is an exercise in the [Intermediate Machine Learning](https://www.kaggle.com/learn/intermediate-machine-learning) course.  You can reference the tutorial at [this link](https://www.kaggle.com/alexisbcook/introduction).**\n",
    "\n",
    "---\n"
   ]
  },
  {
   "cell_type": "markdown",
   "id": "583805f5",
   "metadata": {
    "papermill": {
     "duration": 0.017521,
     "end_time": "2021-08-19T06:11:31.138342",
     "exception": false,
     "start_time": "2021-08-19T06:11:31.120821",
     "status": "completed"
    },
    "tags": []
   },
   "source": [
    "As a warm-up, you'll review some machine learning fundamentals and submit your initial results to a Kaggle competition.\n",
    "\n",
    "# Setup\n",
    "\n",
    "The questions below will give you feedback on your work. Run the following cell to set up the feedback system."
   ]
  },
  {
   "cell_type": "code",
   "execution_count": 1,
   "id": "dfe39b09",
   "metadata": {
    "execution": {
     "iopub.execute_input": "2021-08-19T06:11:31.177591Z",
     "iopub.status.busy": "2021-08-19T06:11:31.175680Z",
     "iopub.status.idle": "2021-08-19T06:11:32.728156Z",
     "shell.execute_reply": "2021-08-19T06:11:32.728846Z",
     "shell.execute_reply.started": "2021-08-19T06:09:33.658173Z"
    },
    "papermill": {
     "duration": 1.575094,
     "end_time": "2021-08-19T06:11:32.729152",
     "exception": false,
     "start_time": "2021-08-19T06:11:31.154058",
     "status": "completed"
    },
    "tags": []
   },
   "outputs": [
    {
     "name": "stdout",
     "output_type": "stream",
     "text": [
      "Setup Complete\n"
     ]
    }
   ],
   "source": [
    "# Set up code checking\n",
    "import os\n",
    "if not os.path.exists(\"../input/train.csv\"):\n",
    "    os.symlink(\"../input/home-data-for-ml-course/train.csv\", \"../input/train.csv\")  \n",
    "    os.symlink(\"../input/home-data-for-ml-course/test.csv\", \"../input/test.csv\")  \n",
    "from learntools.core import binder\n",
    "binder.bind(globals())\n",
    "from learntools.ml_intermediate.ex1 import *\n",
    "print(\"Setup Complete\")"
   ]
  },
  {
   "cell_type": "markdown",
   "id": "004d6c65",
   "metadata": {
    "papermill": {
     "duration": 0.015114,
     "end_time": "2021-08-19T06:11:32.761608",
     "exception": false,
     "start_time": "2021-08-19T06:11:32.746494",
     "status": "completed"
    },
    "tags": []
   },
   "source": [
    "You will work with data from the [Housing Prices Competition for Kaggle Learn Users](https://www.kaggle.com/c/home-data-for-ml-course) to predict home prices in Iowa using 79 explanatory variables describing (almost) every aspect of the homes.  \n",
    "\n",
    "![Ames Housing dataset image](https://i.imgur.com/lTJVG4e.png)\n",
    "\n",
    "Run the next code cell without changes to load the training and validation features in `X_train` and `X_valid`, along with the prediction targets in `y_train` and `y_valid`.  The test features are loaded in `X_test`.  (_If you need to review **features** and **prediction targets**, please check out [this short tutorial](https://www.kaggle.com/dansbecker/your-first-machine-learning-model).  To read about model **validation**, look [here](https://www.kaggle.com/dansbecker/model-validation).  Alternatively, if you'd prefer to look through a full course to review all of these topics, start [here](https://www.kaggle.com/learn/machine-learning).)_"
   ]
  },
  {
   "cell_type": "code",
   "execution_count": 2,
   "id": "34c81013",
   "metadata": {
    "execution": {
     "iopub.execute_input": "2021-08-19T06:11:32.801791Z",
     "iopub.status.busy": "2021-08-19T06:11:32.800965Z",
     "iopub.status.idle": "2021-08-19T06:11:32.900900Z",
     "shell.execute_reply": "2021-08-19T06:11:32.901412Z",
     "shell.execute_reply.started": "2021-08-19T06:09:34.944317Z"
    },
    "papermill": {
     "duration": 0.124414,
     "end_time": "2021-08-19T06:11:32.901601",
     "exception": false,
     "start_time": "2021-08-19T06:11:32.777187",
     "status": "completed"
    },
    "tags": []
   },
   "outputs": [],
   "source": [
    "import pandas as pd\n",
    "from sklearn.model_selection import train_test_split\n",
    "\n",
    "# Read the data\n",
    "X_full = pd.read_csv('../input/train.csv', index_col='Id')\n",
    "X_test_full = pd.read_csv('../input/test.csv', index_col='Id')\n",
    "\n",
    "# Obtain target and predictors\n",
    "y = X_full.SalePrice\n",
    "features = ['LotArea', 'YearBuilt', '1stFlrSF', '2ndFlrSF', 'FullBath', 'BedroomAbvGr', 'TotRmsAbvGrd']\n",
    "X = X_full[features].copy()\n",
    "X_test = X_test_full[features].copy()\n",
    "\n",
    "# Break off validation set from training data\n",
    "X_train, X_valid, y_train, y_valid = train_test_split(X, y, train_size=0.8, test_size=0.2,\n",
    "                                                      random_state=0)"
   ]
  },
  {
   "cell_type": "markdown",
   "id": "ae7975c4",
   "metadata": {
    "papermill": {
     "duration": 0.01525,
     "end_time": "2021-08-19T06:11:32.932987",
     "exception": false,
     "start_time": "2021-08-19T06:11:32.917737",
     "status": "completed"
    },
    "tags": []
   },
   "source": [
    "Use the next cell to print the first several rows of the data. It's a nice way to get an overview of the data you will use in your price prediction model."
   ]
  },
  {
   "cell_type": "code",
   "execution_count": 3,
   "id": "be40b0e8",
   "metadata": {
    "execution": {
     "iopub.execute_input": "2021-08-19T06:11:32.968389Z",
     "iopub.status.busy": "2021-08-19T06:11:32.967671Z",
     "iopub.status.idle": "2021-08-19T06:11:32.987107Z",
     "shell.execute_reply": "2021-08-19T06:11:32.987736Z",
     "shell.execute_reply.started": "2021-08-19T06:09:35.042434Z"
    },
    "papermill": {
     "duration": 0.039476,
     "end_time": "2021-08-19T06:11:32.987907",
     "exception": false,
     "start_time": "2021-08-19T06:11:32.948431",
     "status": "completed"
    },
    "tags": []
   },
   "outputs": [
    {
     "data": {
      "text/html": [
       "<div>\n",
       "<style scoped>\n",
       "    .dataframe tbody tr th:only-of-type {\n",
       "        vertical-align: middle;\n",
       "    }\n",
       "\n",
       "    .dataframe tbody tr th {\n",
       "        vertical-align: top;\n",
       "    }\n",
       "\n",
       "    .dataframe thead th {\n",
       "        text-align: right;\n",
       "    }\n",
       "</style>\n",
       "<table border=\"1\" class=\"dataframe\">\n",
       "  <thead>\n",
       "    <tr style=\"text-align: right;\">\n",
       "      <th></th>\n",
       "      <th>LotArea</th>\n",
       "      <th>YearBuilt</th>\n",
       "      <th>1stFlrSF</th>\n",
       "      <th>2ndFlrSF</th>\n",
       "      <th>FullBath</th>\n",
       "      <th>BedroomAbvGr</th>\n",
       "      <th>TotRmsAbvGrd</th>\n",
       "    </tr>\n",
       "    <tr>\n",
       "      <th>Id</th>\n",
       "      <th></th>\n",
       "      <th></th>\n",
       "      <th></th>\n",
       "      <th></th>\n",
       "      <th></th>\n",
       "      <th></th>\n",
       "      <th></th>\n",
       "    </tr>\n",
       "  </thead>\n",
       "  <tbody>\n",
       "    <tr>\n",
       "      <th>619</th>\n",
       "      <td>11694</td>\n",
       "      <td>2007</td>\n",
       "      <td>1828</td>\n",
       "      <td>0</td>\n",
       "      <td>2</td>\n",
       "      <td>3</td>\n",
       "      <td>9</td>\n",
       "    </tr>\n",
       "    <tr>\n",
       "      <th>871</th>\n",
       "      <td>6600</td>\n",
       "      <td>1962</td>\n",
       "      <td>894</td>\n",
       "      <td>0</td>\n",
       "      <td>1</td>\n",
       "      <td>2</td>\n",
       "      <td>5</td>\n",
       "    </tr>\n",
       "    <tr>\n",
       "      <th>93</th>\n",
       "      <td>13360</td>\n",
       "      <td>1921</td>\n",
       "      <td>964</td>\n",
       "      <td>0</td>\n",
       "      <td>1</td>\n",
       "      <td>2</td>\n",
       "      <td>5</td>\n",
       "    </tr>\n",
       "    <tr>\n",
       "      <th>818</th>\n",
       "      <td>13265</td>\n",
       "      <td>2002</td>\n",
       "      <td>1689</td>\n",
       "      <td>0</td>\n",
       "      <td>2</td>\n",
       "      <td>3</td>\n",
       "      <td>7</td>\n",
       "    </tr>\n",
       "    <tr>\n",
       "      <th>303</th>\n",
       "      <td>13704</td>\n",
       "      <td>2001</td>\n",
       "      <td>1541</td>\n",
       "      <td>0</td>\n",
       "      <td>2</td>\n",
       "      <td>3</td>\n",
       "      <td>6</td>\n",
       "    </tr>\n",
       "  </tbody>\n",
       "</table>\n",
       "</div>"
      ],
      "text/plain": [
       "     LotArea  YearBuilt  1stFlrSF  2ndFlrSF  FullBath  BedroomAbvGr  \\\n",
       "Id                                                                    \n",
       "619    11694       2007      1828         0         2             3   \n",
       "871     6600       1962       894         0         1             2   \n",
       "93     13360       1921       964         0         1             2   \n",
       "818    13265       2002      1689         0         2             3   \n",
       "303    13704       2001      1541         0         2             3   \n",
       "\n",
       "     TotRmsAbvGrd  \n",
       "Id                 \n",
       "619             9  \n",
       "871             5  \n",
       "93              5  \n",
       "818             7  \n",
       "303             6  "
      ]
     },
     "execution_count": 3,
     "metadata": {},
     "output_type": "execute_result"
    }
   ],
   "source": [
    "X_train.head()"
   ]
  },
  {
   "cell_type": "markdown",
   "id": "be59ba52",
   "metadata": {
    "papermill": {
     "duration": 0.016897,
     "end_time": "2021-08-19T06:11:33.021632",
     "exception": false,
     "start_time": "2021-08-19T06:11:33.004735",
     "status": "completed"
    },
    "tags": []
   },
   "source": [
    "The next code cell defines five different random forest models.  Run this code cell without changes.  (_To review **random forests**, look [here](https://www.kaggle.com/dansbecker/random-forests)._)"
   ]
  },
  {
   "cell_type": "code",
   "execution_count": 4,
   "id": "6469fba9",
   "metadata": {
    "execution": {
     "iopub.execute_input": "2021-08-19T06:11:33.061223Z",
     "iopub.status.busy": "2021-08-19T06:11:33.060525Z",
     "iopub.status.idle": "2021-08-19T06:11:33.062474Z",
     "shell.execute_reply": "2021-08-19T06:11:33.063113Z",
     "shell.execute_reply.started": "2021-08-19T06:09:35.642679Z"
    },
    "papermill": {
     "duration": 0.025406,
     "end_time": "2021-08-19T06:11:33.063293",
     "exception": false,
     "start_time": "2021-08-19T06:11:33.037887",
     "status": "completed"
    },
    "tags": []
   },
   "outputs": [],
   "source": [
    "from sklearn.ensemble import RandomForestRegressor\n",
    "\n",
    "# Define the models\n",
    "model_1 = RandomForestRegressor(n_estimators=50, random_state=0)\n",
    "model_2 = RandomForestRegressor(n_estimators=100, random_state=0)\n",
    "model_3 = RandomForestRegressor(n_estimators=100, criterion='mae', random_state=0)\n",
    "model_4 = RandomForestRegressor(n_estimators=200, min_samples_split=20, random_state=0)\n",
    "model_5 = RandomForestRegressor(n_estimators=100, max_depth=7, random_state=0)\n",
    "\n",
    "models = [model_1, model_2, model_3, model_4, model_5]"
   ]
  },
  {
   "cell_type": "markdown",
   "id": "ba6f6a0d",
   "metadata": {
    "papermill": {
     "duration": 0.015378,
     "end_time": "2021-08-19T06:11:33.094642",
     "exception": false,
     "start_time": "2021-08-19T06:11:33.079264",
     "status": "completed"
    },
    "tags": []
   },
   "source": [
    "To select the best model out of the five, we define a function `score_model()` below.  This function returns the mean absolute error (MAE) from the validation set.  Recall that the best model will obtain the lowest MAE.  (_To review **mean absolute error**, look [here](https://www.kaggle.com/dansbecker/model-validation).)_\n",
    "\n",
    "Run the code cell without changes."
   ]
  },
  {
   "cell_type": "code",
   "execution_count": 5,
   "id": "5ae60759",
   "metadata": {
    "execution": {
     "iopub.execute_input": "2021-08-19T06:11:33.130176Z",
     "iopub.status.busy": "2021-08-19T06:11:33.129571Z",
     "iopub.status.idle": "2021-08-19T06:11:38.513567Z",
     "shell.execute_reply": "2021-08-19T06:11:38.512871Z",
     "shell.execute_reply.started": "2021-08-19T06:09:36.369146Z"
    },
    "papermill": {
     "duration": 5.402598,
     "end_time": "2021-08-19T06:11:38.513712",
     "exception": false,
     "start_time": "2021-08-19T06:11:33.111114",
     "status": "completed"
    },
    "tags": []
   },
   "outputs": [
    {
     "name": "stdout",
     "output_type": "stream",
     "text": [
      "Model 1 MAE: 24015\n",
      "Model 2 MAE: 23740\n",
      "Model 3 MAE: 23528\n",
      "Model 4 MAE: 23996\n",
      "Model 5 MAE: 23706\n"
     ]
    }
   ],
   "source": [
    "from sklearn.metrics import mean_absolute_error\n",
    "\n",
    "# Function for comparing different models\n",
    "def score_model(model, X_t=X_train, X_v=X_valid, y_t=y_train, y_v=y_valid):\n",
    "    model.fit(X_t, y_t)\n",
    "    preds = model.predict(X_v)\n",
    "    return mean_absolute_error(y_v, preds)\n",
    "\n",
    "for i in range(0, len(models)):\n",
    "    mae = score_model(models[i])\n",
    "    print(\"Model %d MAE: %d\" % (i+1, mae))"
   ]
  },
  {
   "cell_type": "markdown",
   "id": "ff54e864",
   "metadata": {
    "papermill": {
     "duration": 0.017009,
     "end_time": "2021-08-19T06:11:38.548141",
     "exception": false,
     "start_time": "2021-08-19T06:11:38.531132",
     "status": "completed"
    },
    "tags": []
   },
   "source": [
    "# Step 1: Evaluate several models\n",
    "\n",
    "Use the above results to fill in the line below.  Which model is the best model?  Your answer should be one of `model_1`, `model_2`, `model_3`, `model_4`, or `model_5`."
   ]
  },
  {
   "cell_type": "code",
   "execution_count": 6,
   "id": "cf93824e",
   "metadata": {
    "execution": {
     "iopub.execute_input": "2021-08-19T06:11:38.589554Z",
     "iopub.status.busy": "2021-08-19T06:11:38.588800Z",
     "iopub.status.idle": "2021-08-19T06:11:38.598114Z",
     "shell.execute_reply": "2021-08-19T06:11:38.597042Z",
     "shell.execute_reply.started": "2021-08-19T06:09:41.675561Z"
    },
    "papermill": {
     "duration": 0.03286,
     "end_time": "2021-08-19T06:11:38.598376",
     "exception": false,
     "start_time": "2021-08-19T06:11:38.565516",
     "status": "completed"
    },
    "tags": []
   },
   "outputs": [
    {
     "data": {
      "application/javascript": [
       "parent.postMessage({\"jupyterEvent\": \"custom.exercise_interaction\", \"data\": {\"outcomeType\": 1, \"valueTowardsCompletion\": 0.5, \"interactionType\": 1, \"questionType\": 2, \"questionId\": \"1_BestModel\", \"learnToolsVersion\": \"0.3.4\", \"failureMessage\": \"\", \"exceptionClass\": \"\", \"trace\": \"\"}}, \"*\")"
      ],
      "text/plain": [
       "<IPython.core.display.Javascript object>"
      ]
     },
     "metadata": {},
     "output_type": "display_data"
    },
    {
     "data": {
      "text/markdown": [
       "<span style=\"color:#33cc33\">Correct</span>"
      ],
      "text/plain": [
       "Correct"
      ]
     },
     "metadata": {},
     "output_type": "display_data"
    }
   ],
   "source": [
    "# Fill in the best model\n",
    "best_model = model_3\n",
    "\n",
    "# Check your answer\n",
    "step_1.check()"
   ]
  },
  {
   "cell_type": "code",
   "execution_count": 7,
   "id": "cd1edcd6",
   "metadata": {
    "execution": {
     "iopub.execute_input": "2021-08-19T06:11:38.643260Z",
     "iopub.status.busy": "2021-08-19T06:11:38.642488Z",
     "iopub.status.idle": "2021-08-19T06:11:38.654283Z",
     "shell.execute_reply": "2021-08-19T06:11:38.653520Z",
     "shell.execute_reply.started": "2021-08-19T06:09:41.688962Z"
    },
    "papermill": {
     "duration": 0.035302,
     "end_time": "2021-08-19T06:11:38.654456",
     "exception": false,
     "start_time": "2021-08-19T06:11:38.619154",
     "status": "completed"
    },
    "tags": []
   },
   "outputs": [
    {
     "data": {
      "application/javascript": [
       "parent.postMessage({\"jupyterEvent\": \"custom.exercise_interaction\", \"data\": {\"interactionType\": 2, \"questionType\": 2, \"questionId\": \"1_BestModel\", \"learnToolsVersion\": \"0.3.4\", \"valueTowardsCompletion\": 0.0, \"failureMessage\": \"\", \"exceptionClass\": \"\", \"trace\": \"\", \"outcomeType\": 4}}, \"*\")"
      ],
      "text/plain": [
       "<IPython.core.display.Javascript object>"
      ]
     },
     "metadata": {},
     "output_type": "display_data"
    },
    {
     "data": {
      "text/markdown": [
       "<span style=\"color:#3366cc\">Hint:</span> Which model gets the lowest MAE score?"
      ],
      "text/plain": [
       "Hint: Which model gets the lowest MAE score?"
      ]
     },
     "metadata": {},
     "output_type": "display_data"
    },
    {
     "data": {
      "application/javascript": [
       "parent.postMessage({\"jupyterEvent\": \"custom.exercise_interaction\", \"data\": {\"interactionType\": 3, \"questionType\": 2, \"questionId\": \"1_BestModel\", \"learnToolsVersion\": \"0.3.4\", \"valueTowardsCompletion\": 0.0, \"failureMessage\": \"\", \"exceptionClass\": \"\", \"trace\": \"\", \"outcomeType\": 4}}, \"*\")"
      ],
      "text/plain": [
       "<IPython.core.display.Javascript object>"
      ]
     },
     "metadata": {},
     "output_type": "display_data"
    },
    {
     "data": {
      "text/markdown": [
       "<span style=\"color:#33cc99\">Solution:</span> \n",
       "```python\n",
       "best_model = model_3\n",
       "\n",
       "```"
      ],
      "text/plain": [
       "Solution: \n",
       "```python\n",
       "best_model = model_3\n",
       "\n",
       "```"
      ]
     },
     "metadata": {},
     "output_type": "display_data"
    }
   ],
   "source": [
    "# Lines below will give you a hint or solution code\n",
    "step_1.hint()\n",
    "step_1.solution()"
   ]
  },
  {
   "cell_type": "markdown",
   "id": "4b205818",
   "metadata": {
    "papermill": {
     "duration": 0.021566,
     "end_time": "2021-08-19T06:11:38.697327",
     "exception": false,
     "start_time": "2021-08-19T06:11:38.675761",
     "status": "completed"
    },
    "tags": []
   },
   "source": [
    "# Step 2: Generate test predictions\n",
    "\n",
    "Great. You know how to evaluate what makes an accurate model. Now it's time to go through the modeling process and make predictions. In the line below, create a Random Forest model with the variable name `my_model`."
   ]
  },
  {
   "cell_type": "code",
   "execution_count": 8,
   "id": "af8d00e2",
   "metadata": {
    "execution": {
     "iopub.execute_input": "2021-08-19T06:11:38.747270Z",
     "iopub.status.busy": "2021-08-19T06:11:38.746580Z",
     "iopub.status.idle": "2021-08-19T06:11:38.754033Z",
     "shell.execute_reply": "2021-08-19T06:11:38.753475Z",
     "shell.execute_reply.started": "2021-08-19T06:09:41.714681Z"
    },
    "papermill": {
     "duration": 0.034501,
     "end_time": "2021-08-19T06:11:38.754170",
     "exception": false,
     "start_time": "2021-08-19T06:11:38.719669",
     "status": "completed"
    },
    "tags": []
   },
   "outputs": [
    {
     "data": {
      "application/javascript": [
       "parent.postMessage({\"jupyterEvent\": \"custom.exercise_interaction\", \"data\": {\"outcomeType\": 1, \"valueTowardsCompletion\": 0.5, \"interactionType\": 1, \"questionType\": 2, \"questionId\": \"2_Predictions\", \"learnToolsVersion\": \"0.3.4\", \"failureMessage\": \"\", \"exceptionClass\": \"\", \"trace\": \"\"}}, \"*\")"
      ],
      "text/plain": [
       "<IPython.core.display.Javascript object>"
      ]
     },
     "metadata": {},
     "output_type": "display_data"
    },
    {
     "data": {
      "text/markdown": [
       "<span style=\"color:#33cc33\">Correct</span>"
      ],
      "text/plain": [
       "Correct"
      ]
     },
     "metadata": {},
     "output_type": "display_data"
    }
   ],
   "source": [
    "# Define a model\n",
    "my_model = best_model # Your code here\n",
    "\n",
    "# Check your answer\n",
    "step_2.check()"
   ]
  },
  {
   "cell_type": "code",
   "execution_count": 9,
   "id": "440dd91f",
   "metadata": {
    "execution": {
     "iopub.execute_input": "2021-08-19T06:11:38.802638Z",
     "iopub.status.busy": "2021-08-19T06:11:38.801826Z",
     "iopub.status.idle": "2021-08-19T06:11:38.810760Z",
     "shell.execute_reply": "2021-08-19T06:11:38.811219Z",
     "shell.execute_reply.started": "2021-08-19T06:10:52.159156Z"
    },
    "papermill": {
     "duration": 0.035805,
     "end_time": "2021-08-19T06:11:38.811415",
     "exception": false,
     "start_time": "2021-08-19T06:11:38.775610",
     "status": "completed"
    },
    "tags": []
   },
   "outputs": [
    {
     "data": {
      "application/javascript": [
       "parent.postMessage({\"jupyterEvent\": \"custom.exercise_interaction\", \"data\": {\"interactionType\": 2, \"questionType\": 2, \"questionId\": \"2_Predictions\", \"learnToolsVersion\": \"0.3.4\", \"valueTowardsCompletion\": 0.0, \"failureMessage\": \"\", \"exceptionClass\": \"\", \"trace\": \"\", \"outcomeType\": 4}}, \"*\")"
      ],
      "text/plain": [
       "<IPython.core.display.Javascript object>"
      ]
     },
     "metadata": {},
     "output_type": "display_data"
    },
    {
     "data": {
      "text/markdown": [
       "<span style=\"color:#3366cc\">Hint:</span> You need only set `my_model` to a random forest model.  You are welcome (but not required) to choose one of the five models above."
      ],
      "text/plain": [
       "Hint: You need only set `my_model` to a random forest model.  You are welcome (but not required) to choose one of the five models above."
      ]
     },
     "metadata": {},
     "output_type": "display_data"
    },
    {
     "data": {
      "application/javascript": [
       "parent.postMessage({\"jupyterEvent\": \"custom.exercise_interaction\", \"data\": {\"interactionType\": 3, \"questionType\": 2, \"questionId\": \"2_Predictions\", \"learnToolsVersion\": \"0.3.4\", \"valueTowardsCompletion\": 0.0, \"failureMessage\": \"\", \"exceptionClass\": \"\", \"trace\": \"\", \"outcomeType\": 4}}, \"*\")"
      ],
      "text/plain": [
       "<IPython.core.display.Javascript object>"
      ]
     },
     "metadata": {},
     "output_type": "display_data"
    },
    {
     "data": {
      "text/markdown": [
       "<span style=\"color:#33cc99\">Solution:</span> \n",
       "```python\n",
       "# Define a model\n",
       "my_model = best_model\n",
       "\n",
       "```"
      ],
      "text/plain": [
       "Solution: \n",
       "```python\n",
       "# Define a model\n",
       "my_model = best_model\n",
       "\n",
       "```"
      ]
     },
     "metadata": {},
     "output_type": "display_data"
    }
   ],
   "source": [
    "# Lines below will give you a hint or solution code\n",
    "step_2.hint()\n",
    "step_2.solution()"
   ]
  },
  {
   "cell_type": "markdown",
   "id": "7d754f5e",
   "metadata": {
    "papermill": {
     "duration": 0.023867,
     "end_time": "2021-08-19T06:11:38.860206",
     "exception": false,
     "start_time": "2021-08-19T06:11:38.836339",
     "status": "completed"
    },
    "tags": []
   },
   "source": [
    "Run the next code cell without changes.  The code fits the model to the training and validation data, and then generates test predictions that are saved to a CSV file.  These test predictions can be submitted directly to the competition!"
   ]
  },
  {
   "cell_type": "code",
   "execution_count": 10,
   "id": "d559c68a",
   "metadata": {
    "execution": {
     "iopub.execute_input": "2021-08-19T06:11:38.919057Z",
     "iopub.status.busy": "2021-08-19T06:11:38.918288Z",
     "iopub.status.idle": "2021-08-19T06:11:43.577385Z",
     "shell.execute_reply": "2021-08-19T06:11:43.576830Z",
     "shell.execute_reply.started": "2021-08-19T06:10:53.252155Z"
    },
    "papermill": {
     "duration": 4.692424,
     "end_time": "2021-08-19T06:11:43.577547",
     "exception": false,
     "start_time": "2021-08-19T06:11:38.885123",
     "status": "completed"
    },
    "tags": []
   },
   "outputs": [],
   "source": [
    "# Fit the model to the training data\n",
    "my_model.fit(X, y)\n",
    "\n",
    "# Generate test predictions\n",
    "preds_test = my_model.predict(X_test)\n",
    "\n",
    "# Save predictions in format used for competition scoring\n",
    "output = pd.DataFrame({'Id': X_test.index,\n",
    "                       'SalePrice': preds_test})\n",
    "output.to_csv('submission.csv', index=False)"
   ]
  },
  {
   "cell_type": "markdown",
   "id": "f269bf8a",
   "metadata": {
    "papermill": {
     "duration": 0.023736,
     "end_time": "2021-08-19T06:11:43.624658",
     "exception": false,
     "start_time": "2021-08-19T06:11:43.600922",
     "status": "completed"
    },
    "tags": []
   },
   "source": [
    "# Submit your results\n",
    "\n",
    "Once you have successfully completed Step 2, you're ready to submit your results to the leaderboard!  First, you'll need to join the competition if you haven't already.  So open a new window by clicking on [this link](https://www.kaggle.com/c/home-data-for-ml-course).  Then click on the **Join Competition** button.\n",
    "\n",
    "![join competition image](https://i.imgur.com/wLmFtH3.png)\n",
    "\n",
    "Next, follow the instructions below:\n",
    "1. Begin by clicking on the blue **Save Version** button in the top right corner of the window.  This will generate a pop-up window.  \n",
    "2. Ensure that the **Save and Run All** option is selected, and then click on the blue **Save** button.\n",
    "3. This generates a window in the bottom left corner of the notebook.  After it has finished running, click on the number to the right of the **Save Version** button.  This pulls up a list of versions on the right of the screen.  Click on the ellipsis **(...)** to the right of the most recent version, and select **Open in Viewer**.  This brings you into view mode of the same page. You will need to scroll down to get back to these instructions.\n",
    "4. Click on the **Output** tab on the right of the screen.  Then, click on the file you would like to submit, and click on the blue **Submit** button to submit your results to the leaderboard.\n",
    "\n",
    "You have now successfully submitted to the competition!\n",
    "\n",
    "If you want to keep working to improve your performance, select the blue **Edit** button in the top right of the screen. Then you can change your code and repeat the process. There's a lot of room to improve, and you will climb up the leaderboard as you work.\n"
   ]
  },
  {
   "cell_type": "markdown",
   "id": "11dacb0a",
   "metadata": {
    "papermill": {
     "duration": 0.022779,
     "end_time": "2021-08-19T06:11:43.670789",
     "exception": false,
     "start_time": "2021-08-19T06:11:43.648010",
     "status": "completed"
    },
    "tags": []
   },
   "source": [
    "# Keep going\n",
    "\n",
    "You've made your first model. But how can you quickly make it better?\n",
    "\n",
    "Learn how to improve your competition results by incorporating columns with **[missing values](https://www.kaggle.com/alexisbcook/missing-values)**."
   ]
  },
  {
   "cell_type": "markdown",
   "id": "3911f212",
   "metadata": {
    "papermill": {
     "duration": 0.022745,
     "end_time": "2021-08-19T06:11:43.716813",
     "exception": false,
     "start_time": "2021-08-19T06:11:43.694068",
     "status": "completed"
    },
    "tags": []
   },
   "source": [
    "---\n",
    "\n",
    "\n",
    "\n",
    "\n",
    "*Have questions or comments? Visit the [Learn Discussion forum](https://www.kaggle.com/learn-forum/161289) to chat with other Learners.*"
   ]
  }
 ],
 "metadata": {
  "kernelspec": {
   "display_name": "Python 3",
   "language": "python",
   "name": "python3"
  },
  "language_info": {
   "codemirror_mode": {
    "name": "ipython",
    "version": 3
   },
   "file_extension": ".py",
   "mimetype": "text/x-python",
   "name": "python",
   "nbconvert_exporter": "python",
   "pygments_lexer": "ipython3",
   "version": "3.7.10"
  },
  "papermill": {
   "default_parameters": {},
   "duration": 22.891616,
   "end_time": "2021-08-19T06:11:45.275249",
   "environment_variables": {},
   "exception": null,
   "input_path": "__notebook__.ipynb",
   "output_path": "__notebook__.ipynb",
   "parameters": {},
   "start_time": "2021-08-19T06:11:22.383633",
   "version": "2.3.3"
  }
 },
 "nbformat": 4,
 "nbformat_minor": 5
}
