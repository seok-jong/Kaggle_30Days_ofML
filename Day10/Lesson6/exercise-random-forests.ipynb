{
 "cells": [
  {
   "cell_type": "markdown",
   "id": "f5628f0d",
   "metadata": {
    "papermill": {
     "duration": 0.007871,
     "end_time": "2021-08-16T06:48:31.504715",
     "exception": false,
     "start_time": "2021-08-16T06:48:31.496844",
     "status": "completed"
    },
    "tags": []
   },
   "source": [
    "**This notebook is an exercise in the [Introduction to Machine Learning](https://www.kaggle.com/learn/intro-to-machine-learning) course.  You can reference the tutorial at [this link](https://www.kaggle.com/dansbecker/random-forests).**\n",
    "\n",
    "---\n"
   ]
  },
  {
   "cell_type": "markdown",
   "id": "e1672ace",
   "metadata": {
    "papermill": {
     "duration": 0.006431,
     "end_time": "2021-08-16T06:48:31.520415",
     "exception": false,
     "start_time": "2021-08-16T06:48:31.513984",
     "status": "completed"
    },
    "tags": []
   },
   "source": [
    "## Recap\n",
    "Here's the code you've written so far."
   ]
  },
  {
   "cell_type": "code",
   "execution_count": 1,
   "id": "a07de1db",
   "metadata": {
    "execution": {
     "iopub.execute_input": "2021-08-16T06:48:31.538309Z",
     "iopub.status.busy": "2021-08-16T06:48:31.537051Z",
     "iopub.status.idle": "2021-08-16T06:48:32.912832Z",
     "shell.execute_reply": "2021-08-16T06:48:32.913382Z",
     "shell.execute_reply.started": "2021-08-16T06:46:05.278668Z"
    },
    "papermill": {
     "duration": 1.386589,
     "end_time": "2021-08-16T06:48:32.913713",
     "exception": false,
     "start_time": "2021-08-16T06:48:31.527124",
     "status": "completed"
    },
    "tags": []
   },
   "outputs": [
    {
     "name": "stdout",
     "output_type": "stream",
     "text": [
      "Validation MAE when not specifying max_leaf_nodes: 29,653\n",
      "Validation MAE for best value of max_leaf_nodes: 27,283\n",
      "\n",
      "Setup complete\n"
     ]
    }
   ],
   "source": [
    "# Code you have previously used to load data\n",
    "import pandas as pd\n",
    "from sklearn.metrics import mean_absolute_error\n",
    "from sklearn.model_selection import train_test_split\n",
    "from sklearn.tree import DecisionTreeRegressor\n",
    "\n",
    "\n",
    "# Path of the file to read\n",
    "iowa_file_path = '../input/home-data-for-ml-course/train.csv'\n",
    "\n",
    "home_data = pd.read_csv(iowa_file_path)\n",
    "# Create target object and call it y\n",
    "y = home_data.SalePrice\n",
    "# Create X\n",
    "features = ['LotArea', 'YearBuilt', '1stFlrSF', '2ndFlrSF', 'FullBath', 'BedroomAbvGr', 'TotRmsAbvGrd']\n",
    "X = home_data[features]\n",
    "\n",
    "# Split into validation and training data\n",
    "train_X, val_X, train_y, val_y = train_test_split(X, y, random_state=1)\n",
    "\n",
    "# Specify Model\n",
    "iowa_model = DecisionTreeRegressor(random_state=1)\n",
    "# Fit Model\n",
    "iowa_model.fit(train_X, train_y)\n",
    "\n",
    "# Make validation predictions and calculate mean absolute error\n",
    "val_predictions = iowa_model.predict(val_X)\n",
    "val_mae = mean_absolute_error(val_predictions, val_y)\n",
    "print(\"Validation MAE when not specifying max_leaf_nodes: {:,.0f}\".format(val_mae))\n",
    "\n",
    "# Using best value for max_leaf_nodes\n",
    "iowa_model = DecisionTreeRegressor(max_leaf_nodes=100, random_state=1)\n",
    "iowa_model.fit(train_X, train_y)\n",
    "val_predictions = iowa_model.predict(val_X)\n",
    "val_mae = mean_absolute_error(val_predictions, val_y)\n",
    "print(\"Validation MAE for best value of max_leaf_nodes: {:,.0f}\".format(val_mae))\n",
    "\n",
    "\n",
    "# Set up code checking\n",
    "from learntools.core import binder\n",
    "binder.bind(globals())\n",
    "from learntools.machine_learning.ex6 import *\n",
    "print(\"\\nSetup complete\")"
   ]
  },
  {
   "cell_type": "markdown",
   "id": "e52b12e2",
   "metadata": {
    "papermill": {
     "duration": 0.006809,
     "end_time": "2021-08-16T06:48:32.927998",
     "exception": false,
     "start_time": "2021-08-16T06:48:32.921189",
     "status": "completed"
    },
    "tags": []
   },
   "source": [
    "# Exercises\n",
    "Data science isn't always this easy. But replacing the decision tree with a Random Forest is going to be an easy win."
   ]
  },
  {
   "cell_type": "markdown",
   "id": "c965dbcc",
   "metadata": {
    "papermill": {
     "duration": 0.006645,
     "end_time": "2021-08-16T06:48:32.941626",
     "exception": false,
     "start_time": "2021-08-16T06:48:32.934981",
     "status": "completed"
    },
    "tags": []
   },
   "source": [
    "## Step 1: Use a Random Forest"
   ]
  },
  {
   "cell_type": "code",
   "execution_count": 2,
   "id": "0a464a3f",
   "metadata": {
    "execution": {
     "iopub.execute_input": "2021-08-16T06:48:32.961486Z",
     "iopub.status.busy": "2021-08-16T06:48:32.960760Z",
     "iopub.status.idle": "2021-08-16T06:48:33.530170Z",
     "shell.execute_reply": "2021-08-16T06:48:33.530740Z",
     "shell.execute_reply.started": "2021-08-16T06:47:50.984985Z"
    },
    "papermill": {
     "duration": 0.582384,
     "end_time": "2021-08-16T06:48:33.530906",
     "exception": false,
     "start_time": "2021-08-16T06:48:32.948522",
     "status": "completed"
    },
    "tags": []
   },
   "outputs": [
    {
     "name": "stdout",
     "output_type": "stream",
     "text": [
      "Validation MAE for Random Forest Model: 21857.15912981083\n"
     ]
    },
    {
     "data": {
      "application/javascript": [
       "parent.postMessage({\"jupyterEvent\": \"custom.exercise_interaction\", \"data\": {\"outcomeType\": 1, \"valueTowardsCompletion\": 1.0, \"interactionType\": 1, \"questionType\": 2, \"questionId\": \"1_CheckRfScore\", \"learnToolsVersion\": \"0.3.4\", \"failureMessage\": \"\", \"exceptionClass\": \"\", \"trace\": \"\"}}, \"*\")"
      ],
      "text/plain": [
       "<IPython.core.display.Javascript object>"
      ]
     },
     "metadata": {},
     "output_type": "display_data"
    },
    {
     "data": {
      "text/markdown": [
       "<span style=\"color:#33cc33\">Correct</span>"
      ],
      "text/plain": [
       "Correct"
      ]
     },
     "metadata": {},
     "output_type": "display_data"
    }
   ],
   "source": [
    "from sklearn.ensemble import RandomForestRegressor\n",
    "\n",
    "# Define the model. Set random_state to 1\n",
    "rf_model = RandomForestRegressor(random_state=1)\n",
    "\n",
    "# fit your model\n",
    "rf_model.fit(train_X,train_y)\n",
    "\n",
    "# Calculate the mean absolute error of your Random Forest model on the validation data\n",
    "predictions=rf_model.predict(val_X)\n",
    "rf_val_mae = mean_absolute_error(predictions,val_y)\n",
    "\n",
    "print(\"Validation MAE for Random Forest Model: {}\".format(rf_val_mae))\n",
    "\n",
    "# Check your answer\n",
    "step_1.check()"
   ]
  },
  {
   "cell_type": "code",
   "execution_count": 3,
   "id": "f94dd0bc",
   "metadata": {
    "execution": {
     "iopub.execute_input": "2021-08-16T06:48:33.551346Z",
     "iopub.status.busy": "2021-08-16T06:48:33.550364Z",
     "iopub.status.idle": "2021-08-16T06:48:33.562439Z",
     "shell.execute_reply": "2021-08-16T06:48:33.563059Z",
     "shell.execute_reply.started": "2021-08-16T06:47:56.209235Z"
    },
    "papermill": {
     "duration": 0.023924,
     "end_time": "2021-08-16T06:48:33.563250",
     "exception": false,
     "start_time": "2021-08-16T06:48:33.539326",
     "status": "completed"
    },
    "tags": []
   },
   "outputs": [
    {
     "data": {
      "application/javascript": [
       "parent.postMessage({\"jupyterEvent\": \"custom.exercise_interaction\", \"data\": {\"interactionType\": 2, \"questionType\": 2, \"questionId\": \"1_CheckRfScore\", \"learnToolsVersion\": \"0.3.4\", \"valueTowardsCompletion\": 0.0, \"failureMessage\": \"\", \"exceptionClass\": \"\", \"trace\": \"\", \"outcomeType\": 4}}, \"*\")"
      ],
      "text/plain": [
       "<IPython.core.display.Javascript object>"
      ]
     },
     "metadata": {},
     "output_type": "display_data"
    },
    {
     "data": {
      "text/markdown": [
       "<span style=\"color:#3366cc\">Hint:</span> Review the code above with a DecisionTreeRegressor. Use the RandomForestRegressor instead"
      ],
      "text/plain": [
       "Hint: Review the code above with a DecisionTreeRegressor. Use the RandomForestRegressor instead"
      ]
     },
     "metadata": {},
     "output_type": "display_data"
    },
    {
     "data": {
      "application/javascript": [
       "parent.postMessage({\"jupyterEvent\": \"custom.exercise_interaction\", \"data\": {\"interactionType\": 3, \"questionType\": 2, \"questionId\": \"1_CheckRfScore\", \"learnToolsVersion\": \"0.3.4\", \"valueTowardsCompletion\": 0.0, \"failureMessage\": \"\", \"exceptionClass\": \"\", \"trace\": \"\", \"outcomeType\": 4}}, \"*\")"
      ],
      "text/plain": [
       "<IPython.core.display.Javascript object>"
      ]
     },
     "metadata": {},
     "output_type": "display_data"
    },
    {
     "data": {
      "text/markdown": [
       "<span style=\"color:#33cc99\">Solution:</span> \n",
       "```python\n",
       "rf_model = RandomForestRegressor()\n",
       "\n",
       "# fit your model\n",
       "rf_model.fit(train_X, train_y)\n",
       "\n",
       "# Calculate the mean absolute error of your Random Forest model on the validation data\n",
       "rf_val_predictions = rf_model.predict(val_X)\n",
       "rf_val_mae = mean_absolute_error(rf_val_predictions, val_y)\n",
       "\n",
       "```"
      ],
      "text/plain": [
       "Solution: \n",
       "```python\n",
       "rf_model = RandomForestRegressor()\n",
       "\n",
       "# fit your model\n",
       "rf_model.fit(train_X, train_y)\n",
       "\n",
       "# Calculate the mean absolute error of your Random Forest model on the validation data\n",
       "rf_val_predictions = rf_model.predict(val_X)\n",
       "rf_val_mae = mean_absolute_error(rf_val_predictions, val_y)\n",
       "\n",
       "```"
      ]
     },
     "metadata": {},
     "output_type": "display_data"
    }
   ],
   "source": [
    "# The lines below will show you a hint or the solution.\n",
    "step_1.hint() \n",
    "step_1.solution()\n"
   ]
  },
  {
   "cell_type": "markdown",
   "id": "925e80d9",
   "metadata": {
    "papermill": {
     "duration": 0.010307,
     "end_time": "2021-08-16T06:48:33.584270",
     "exception": false,
     "start_time": "2021-08-16T06:48:33.573963",
     "status": "completed"
    },
    "tags": []
   },
   "source": [
    "So far, you have followed specific instructions at each step of your project. This helped learn key ideas and build your first model, but now you know enough to try things on your own. \n",
    "\n",
    "Machine Learning competitions are a great way to try your own ideas and learn more as you independently navigate a machine learning project. \n",
    "\n",
    "# Keep Going\n",
    "\n",
    "You are ready for **[Machine Learning Competitions](https://www.kaggle.com/alexisbcook/machine-learning-competitions).**\n"
   ]
  },
  {
   "cell_type": "markdown",
   "id": "c57eaf1e",
   "metadata": {
    "papermill": {
     "duration": 0.010286,
     "end_time": "2021-08-16T06:48:33.605106",
     "exception": false,
     "start_time": "2021-08-16T06:48:33.594820",
     "status": "completed"
    },
    "tags": []
   },
   "source": [
    "---\n",
    "\n",
    "\n",
    "\n",
    "\n",
    "*Have questions or comments? Visit the [Learn Discussion forum](https://www.kaggle.com/learn-forum/161285) to chat with other Learners.*"
   ]
  }
 ],
 "metadata": {
  "kernelspec": {
   "display_name": "Python 3",
   "language": "python",
   "name": "python3"
  },
  "language_info": {
   "codemirror_mode": {
    "name": "ipython",
    "version": 3
   },
   "file_extension": ".py",
   "mimetype": "text/x-python",
   "name": "python",
   "nbconvert_exporter": "python",
   "pygments_lexer": "ipython3",
   "version": "3.7.10"
  },
  "papermill": {
   "default_parameters": {},
   "duration": 11.797319,
   "end_time": "2021-08-16T06:48:35.046372",
   "environment_variables": {},
   "exception": null,
   "input_path": "__notebook__.ipynb",
   "output_path": "__notebook__.ipynb",
   "parameters": {},
   "start_time": "2021-08-16T06:48:23.249053",
   "version": "2.3.3"
  }
 },
 "nbformat": 4,
 "nbformat_minor": 5
}
